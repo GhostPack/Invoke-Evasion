{
 "cells": [
  {
   "cell_type": "code",
   "execution_count": 1,
   "id": "63bf506b-80b8-4740-8b69-73eca47593a1",
   "metadata": {},
   "outputs": [],
   "source": [
    "import os, pickle, time, itertools, re, random, subprocess, joblib, pprint, codecs, datetime, shutil, ctypes\n",
    "from io import StringIO\n",
    "from os.path import exists\n",
    "from collections import OrderedDict\n",
    "from tabulate import tabulate\n",
    "from itertools import chain, combinations\n",
    "\n",
    "import numpy as np\n",
    "from numpy.random import seed\n",
    "\n",
    "import pandas as pd\n",
    "pd.set_option('display.max_columns', 100)\n",
    "pd.set_option('display.float_format', lambda x: '%.3f' % x)\n",
    "\n",
    "from matplotlib import pyplot as plt\n",
    "%matplotlib inline \n",
    "\n",
    "# data pipelines/scaling\n",
    "from sklearn.model_selection import train_test_split\n",
    "from sklearn.pipeline import make_pipeline\n",
    "from sklearn.preprocessing import StandardScaler, MinMaxScaler\n",
    "\n",
    "from sklearn.metrics import mean_squared_error\n",
    "\n",
    "# Algorithms\n",
    "from sklearn.linear_model import LogisticRegression, LinearRegression, Ridge, Lasso, BayesianRidge\n",
    "from sklearn.ensemble import RandomForestClassifier, RandomForestRegressor\n",
    "from sklearn.svm import SVC, SVR\n",
    "from sklearn.naive_bayes import GaussianNB\n",
    "import lightgbm as lgb\n",
    "import xgboost as xgb\n",
    "\n",
    "# hyperparameter tuning\n",
    "from sklearn.model_selection import GridSearchCV, RandomizedSearchCV\n",
    "\n",
    "# Deep Learning stuffz\n",
    "import tensorflow as tf\n",
    "from tensorflow import keras\n",
    "from tensorflow.keras import layers\n",
    "from tensorflow.keras.layers import Dense, Dropout, BatchNormalization\n",
    "from tensorflow.keras.models import Sequential\n",
    "from tensorflow.keras.callbacks import EarlyStopping, ModelCheckpoint\n",
    "import keras_tuner as kt\n",
    "\n",
    "# optimization\n",
    "import optuna\n",
    "import transforms # our script-preserving transform code\n",
    "\n",
    "\n",
    "# ignore some specific annoying warnings\n",
    "import warnings\n",
    "from sklearn.exceptions import ConvergenceWarning\n",
    "warnings.simplefilter(action='ignore', category=ConvergenceWarning)\n",
    "warnings.simplefilter(action='ignore', category=FutureWarning)\n",
    "\n",
    "import tensorflow.python.util.deprecation as deprecation\n",
    "deprecation._PRINT_DEPRECATION_WARNINGS = False\n",
    "\n",
    "optuna.logging.set_verbosity(optuna.logging.WARNING)\n",
    "\n",
    "# fix up some numpy disply options\n",
    "np.set_printoptions(suppress=True)"
   ]
  },
  {
   "cell_type": "code",
   "execution_count": 2,
   "id": "db16b71c-49a6-4918-80fd-110f7a04e687",
   "metadata": {},
   "outputs": [],
   "source": [
    "# fixate the random state for reproducability\n",
    "RANDOM_STATE = 1337\n",
    "seed(RANDOM_STATE)\n",
    "tf.random.set_seed(RANDOM_STATE)"
   ]
  },
  {
   "cell_type": "markdown",
   "id": "b32075c1-d09d-40a7-800d-6c5cb9c4fb2c",
   "metadata": {},
   "source": [
    "# Load Target Models"
   ]
  },
  {
   "cell_type": "code",
   "execution_count": 3,
   "id": "159cc973-af8d-46d8-b1a2-00f1234eb3e4",
   "metadata": {},
   "outputs": [
    {
     "name": "stderr",
     "output_type": "stream",
     "text": [
      "C:\\Users\\wschroeder\\AppData\\Roaming\\Python\\Python39\\site-packages\\sklearn\\base.py:329: UserWarning: Trying to unpickle estimator MinMaxScaler from version 0.24.2 when using version 0.23.1. This might lead to breaking code or invalid results. Use at your own risk.\n",
      "  warnings.warn(\n",
      "C:\\Users\\wschroeder\\AppData\\Roaming\\Python\\Python39\\site-packages\\sklearn\\base.py:329: UserWarning: Trying to unpickle estimator LogisticRegression from version 0.24.2 when using version 0.23.1. This might lead to breaking code or invalid results. Use at your own risk.\n",
      "  warnings.warn(\n",
      "C:\\Users\\wschroeder\\AppData\\Roaming\\Python\\Python39\\site-packages\\sklearn\\base.py:329: UserWarning: Trying to unpickle estimator Pipeline from version 0.24.2 when using version 0.23.1. This might lead to breaking code or invalid results. Use at your own risk.\n",
      "  warnings.warn(\n",
      "C:\\Users\\wschroeder\\AppData\\Roaming\\Python\\Python39\\site-packages\\sklearn\\base.py:329: UserWarning: Trying to unpickle estimator LabelEncoder from version 0.24.2 when using version 0.23.1. This might lead to breaking code or invalid results. Use at your own risk.\n",
      "  warnings.warn(\n"
     ]
    }
   ],
   "source": [
    "# the tuned Logisitic Regression model\n",
    "lr_target_model = pickle.load(open('../models/tuned_ridge.bin', 'rb'))\n",
    "\n",
    "\n",
    "# the tuned LightGBMClassifier\n",
    "lgbm_target_model = pickle.load(open('../models/tuned_lgbm.bin', 'rb'))\n",
    "\n",
    "\n",
    "# the target Neural Network\n",
    "layers  = 4\n",
    "neurons = 192\n",
    "dropout = 0.5\n",
    "\n",
    "nn_target_model = Sequential()\n",
    "nn_target_model.add(Dense(neurons, input_dim=446, activation='relu'))\n",
    "nn_target_model.add(Dropout(dropout))\n",
    "    \n",
    "for i in range(layers-1):\n",
    "    nn_target_model.add(Dense(neurons, activation='relu'))\n",
    "    nn_target_model.add(Dropout(dropout))\n",
    "\n",
    "nn_target_model.add(Dense(1, activation='sigmoid'))\n",
    "nn_target_model.load_weights(f\"../models/neural_network/tuned_{layers}_{neurons}_{dropout}.ckpt\")\n",
    "\n",
    "nn_scaler = pickle.load(open('../models/nn_scaler.bin', 'rb'))"
   ]
  },
  {
   "cell_type": "markdown",
   "id": "d6424033-24cf-450d-9971-eb80d944001b",
   "metadata": {},
   "source": [
    "# Data Preparation"
   ]
  },
  {
   "cell_type": "code",
   "execution_count": 4,
   "id": "22762cab-f72a-4801-a77b-574617331970",
   "metadata": {},
   "outputs": [],
   "source": [
    "# read in the labeled black box data set\n",
    "df = pd.read_csv('../datasets/BlackBoxData.ast.csv')\n",
    "\n",
    "y = df.Label\n",
    "X = df.drop( ['Path', 'Label'], axis=1)\n",
    "\n",
    "# the features we're using that were selected by Boruta-Shap\n",
    "boruta_shap_accepted_features = ['AstCmdletMetrics_CharacterDistribution_&_26_Percent', 'AstMemberArgumentMetrics_Entropy_Median', 'LineByLineMetrics_CharacterDistribution_m_6d_Percent', 'AstInvocationOperatorInvokedObjectMetrics_Entropy_Mode', 'AstMemberArgumentMetrics_CharacterDistribution_e_65_Percent', 'AstMemberArgumentMetrics_CharacterDistribution_B_42_Percent', 'LineByLineMetrics_CharacterDistribution_{_7b_Count', 'AstGroupedBinaryExpressionOperators_Plus_Count', 'AstGroupedAstTypes_StatementBlockAst_Percent', 'LineByLineMetrics_CharacterDistribution_t_74_Percent', 'AstStringMetrics_UpperAlphaPercent_Average', 'AstMemberMetrics_CharacterDistribution_-_2d_Percent', 'AstMemberArgumentMetrics_UpperAlphaPercent_Average', 'AstCmdletMetrics_UpperAlphaPercent_Average', 'LineByLineMetrics_CharacterDistribution_(_28_Percent', 'LineByLineMetrics_CharacterDistribution_A_41_Percent', 'AstGroupedBinaryExpressionOperators_Format_Count', 'AstGroupedAstTypes_AssignmentStatementAst_Count', 'AstCmdletMetrics_CharacterDistribution_t_74_Percent', 'LineByLineMetrics_CharacterDistribution_R_52_Percent', 'AstCommentMetrics_Length_Median', 'AstInvocationOperatorInvokedObjectMetrics_CharacterDistribution_SpecialCharacterOnly_Count', 'AstCmdletMetrics_UpperAlphaPercent_Mode', 'AstArrayElementMetrics_CharacterDistribution_,_2c_Count', 'AstVariableNameMetrics_CharacterDistribution_r_72_Count', 'AstCmdletMetrics_CharacterDistribution_R_52_Count', 'AstCmdletMetrics_CharacterDistribution_n_6e_Percent', 'AstInvocationOperatorInvokedObjectMetrics_Density_Maximum', 'AstFunctionNameMetrics_CharacterDistribution_R_52_Count', 'AstTypeExpressionMetrics_CharacterDistribution_C_43_Percent', 'AstMemberArgumentMetrics_CharacterDistribution_Q_51_Percent', 'AstCmdletMetrics_CharacterDistribution_SpecialCharacterOnly_Percent', 'AstVariableNameMetrics_CharacterDistribution_n_6e_Percent', 'AstGroupedAstTypes_TypeConstraintAst_Count', 'AstStringMetrics_Entropy_Average', 'AstCmdletMetrics_CharacterDistribution_u_75_Percent', 'AstVariableNameMetrics_Length_Maximum', 'LineByLineMetrics_CharacterDistribution_d_64_Percent', 'AstStringMetrics_Length_Average', 'AstVariableNameMetrics_CharacterDistribution_1_31_Percent', 'AstCmdletMetrics_CharacterDistribution_j_6a_Count', 'AstCmdletMetrics_CharacterDistribution_u_75_Count', 'AstGroupedBinaryExpressionOperators_Format_Percent', 'LineByLineMetrics_CharacterDistribution_s_73_Percent', 'AstInvocationOperatorInvokedObjectMetrics_Density_Average', 'LineByLineMetrics_Length_Mode', 'AstMemberMetrics_Entropy_Maximum', 'LineByLineMetrics_CharacterDistribution_#_23_Percent', 'LineByLineMetrics_CharacterDistribution_e_65_Percent', 'AstCmdletMetrics_CharacterDistribution_-_2d_Count', 'AstTypeConstraintMetrics_CharacterDistribution_H_48_Percent', 'LineByLineMetrics_CharacterDistribution_E_45_Percent', \"AstInvocationOperatorInvokedObjectMetrics_CharacterDistribution_'_27_Percent\", 'LineByLineMetrics_Entropy_Mode', 'AstMemberArgumentMetrics_Length_Average', 'AstInvocationOperatorInvokedObjectMetrics_Entropy_Average', 'AstMemberArgumentMetrics_CharacterDistribution_$_24_Percent', 'AstInvocationOperatorInvokedObjectMetrics_Length_Maximum', 'AstMemberArgumentMetrics_CharacterDistribution_)_29_Percent', 'AstConvertExpressionMetrics_CharacterDistribution_H_48_Percent', 'AstGroupedAstTypes_ParenExpressionAst_Percent', 'AstGroupedAstTypes_AttributeAst_Percent', 'AstCommentMetrics_CharacterDistribution_#_23_Count', 'LineByLineMetrics_CharacterDistribution_Y_59_Count', 'AstInvocationOperatorInvokedObjectMetrics_CharacterDistribution_)_29_Count', 'AstMemberMetrics_CharacterDistribution_{_7b_Count', 'AstCmdletMetrics_CharacterDistribution_`_60_Count', 'AstVariableNameMetrics_CharacterDistribution_`_60_Percent', 'LineByLineMetrics_CharacterDistribution_-_2d_Percent', 'AstMemberMetrics_CharacterDistribution_(_28_Percent', 'AstStringMetrics_Length_Median', 'AstCmdletMetrics_CharacterDistribution_o_6f_Count', 'LineByLineMetrics_CharacterDistribution_SPACE_20_Count', 'AstMemberMetrics_Entropy_Median', 'AstMemberArgumentMetrics_UpperAlphaPercent_Mode', 'AstInvocationOperatorInvokedObjectMetrics_Length_Mode', 'LineByLineMetrics_CharacterDistribution_$_24_Percent', 'AstInvocationOperatorInvokedObjectMetrics_Length_Average', 'AstInvocationOperatorInvokedObjectMetrics_CharacterDistribution_(_28_Count', 'AstInvocationOperatorInvokedObjectMetrics_Length_Minimum', 'AstVariableNameMetrics_CharacterDistribution_SpecialCharacterOnly_Count', 'AstMemberMetrics_CharacterDistribution_}_7d_Percent', 'AstTypeExpressionMetrics_CharacterDistribution_x_78_Percent', 'AstInvocationOperatorInvokedObjectMetrics_UpperAlphaPercent_Mode', \"AstMemberArgumentMetrics_CharacterDistribution_'_27_Count\", 'AstInvocationOperatorInvokedObjectMetrics_CharacterDistribution_-_2d_Count', 'AstStringMetrics_CharacterDistribution_Q_51_Count', \"LineByLineMetrics_CharacterDistribution_'_27_Percent\", 'AstArrayElementMetrics_UpperAlphaPercent_Maximum', 'AstMemberMetrics_CharacterDistribution_U_55_Count', 'AstMemberArgumentMetrics_Length_Total', 'AstFunctionNameMetrics_CharacterDistribution_E_45_Percent', 'AstMemberArgumentMetrics_UpperAlphaPercent_Maximum', 'AstTypeExpressionMetrics_CharacterDistribution_B_42_Percent', 'AstGroupedAstTypes_IfStatementAst_Percent', 'LineByLineMetrics_CharacterDistribution_}_7d_Count', 'AstCmdletMetrics_CharacterDistribution_._2e_Percent', 'AstInvocationOperatorInvokedObjectMetrics_Density_Mode', 'AstConvertExpressionMetrics_UpperAlphaPercent_Maximum', 'LineByLineMetrics_CharacterDistribution_i_69_Percent', 'AstVariableNameMetrics_Entropy_Range', \"AstArrayElementMetrics_CharacterDistribution_'_27_Count\", 'AstMemberArgumentMetrics_CharacterDistribution_A_41_Count', 'AstMemberArgumentMetrics_CharacterDistribution_)_29_Count', 'AstStringMetrics_CharacterDistribution_SpecialCharacterOnly_Percent', 'AstCommentMetrics_Entropy_Average', 'AstStringMetrics_CharacterDistribution_Q_51_Percent', 'AstTypeConstraintMetrics_CharacterDistribution_H_48_Count', 'AstMemberArgumentMetrics_CharacterDistribution_U_55_Percent', 'AstInvocationOperatorInvokedObjectMetrics_UpperAlphaPercent_Minimum', 'AstStringMetrics_Length_Total', 'AstMemberMetrics_UpperAlphaPercent_Median', 'AstCmdletMetrics_Entropy_Maximum', 'AstVariableNameMetrics_CharacterDistribution_m_6d_Percent', 'AstMemberArgumentMetrics_CharacterDistribution_G_47_Count', 'AstVariableNameMetrics_Entropy_Average', 'AstGroupedAstTypes_StringConstantExpressionAst_Percent', 'AstMemberMetrics_CharacterDistribution__22_Count\"', 'AstCmdletMetrics_CharacterDistribution_R_52_Percent', 'AstCommentMetrics_CharacterDistribution_SpecialCharacterOnly_Percent', 'AstMemberArgumentMetrics_Length_Median', 'LineByLineMetrics_CharacterDistribution_(_28_Count', 'AstCmdletMetrics_Entropy_Average', 'AstCmdletMetrics_UpperAlphaPercent_Range', 'AstCmdletMetrics_Length_Total', 'AstTypeConstraintMetrics_Length_Total', 'AstMemberMetrics_UpperAlphaPercent_Mode', 'AstFunctionNameMetrics_CharacterDistribution_T_54_Count', 'LineByLineMetrics_UpperAlphaPercent_Range', 'AstCmdletMetrics_CharacterDistribution_-_2d_Percent', 'AstMemberArgumentMetrics_CharacterDistribution_Y_59_Count', 'LineByLineMetrics_CharacterDistribution_w_77_Percent', 'LineByLineMetrics_CharacterDistribution_V_56_Percent', 'LineByLineMetrics_Length_Median', 'LineByLineMetrics_CharacterDistribution_{_7b_Percent', 'LineByLineMetrics_CharacterDistribution_R_52_Count', 'AstMemberArgumentMetrics_CharacterDistribution_E_45_Count', 'AstCmdletMetrics_CharacterDistribution_w_77_Count', 'AstCmdletMetrics_Entropy_Mode', 'AstTypeConstraintMetrics_CharacterDistribution_R_52_Percent', 'AstCmdletMetrics_CharacterDistribution_E_45_Percent', 'AstMemberMetrics_CharacterDistribution_`_60_Count', 'AstMemberMetrics_CharacterDistribution_SpecialCharacterOnly_Count', 'AstStringMetrics_Length_Mode', 'AstStringMetrics_Density_Average', 'AstFunctionNameMetrics_CharacterDistribution_E_45_Count', 'AstMemberArgumentMetrics_Entropy_Maximum', 'AstMemberMetrics_CharacterDistribution_{_7b_Percent', 'AstGroupedAstTypes_ParameterAst_Percent', 'AstCmdletMetrics_Length_Mode', 'AstStringMetrics_CharacterDistribution_E_45_Count', 'AstTypeConstraintMetrics_Count', 'AstCommentMetrics_Density_Median', 'AstTypeConstraintMetrics_CharacterDistribution_C_43_Percent', 'AstGroupedAstTypes_ArrayLiteralAst_Percent', 'LineByLineMetrics_CharacterDistribution_h_68_Percent', 'AstMemberArgumentMetrics_Entropy_Average', 'AstFunctionNameMetrics_UpperAlphaPercent_Minimum', 'AstMemberArgumentMetrics_CharacterDistribution_6_36_Percent', 'LineByLineMetrics_CharacterDistribution_)_29_Count', 'LineByLineMetrics_CharacterDistribution_,_2c_Percent', 'LineByLineMetrics_CharacterDistribution_+_2b_Count', 'AstFunctionNameMetrics_UpperAlphaPercent_Mode', 'AstMemberArgumentMetrics_CharacterDistribution_[_5b_Count', 'AstStringMetrics_CharacterDistribution_Z_5a_Percent', 'AstInvocationOperatorInvokedObjectMetrics_Entropy_Maximum', 'AstFunctionNameMetrics_CharacterDistribution_T_54_Percent', 'AstCommentMetrics_CharacterDistribution_#_23_Percent', 'AstCmdletMetrics_CharacterDistribution_e_65_Count', 'AstCmdletMetrics_UpperAlphaPercent_Minimum', 'LineByLineMetrics_Entropy_Median', 'AstTypeConstraintMetrics_CharacterDistribution_r_72_Count', 'AstCmdletMetrics_CharacterDistribution_w_77_Percent', 'AstConvertExpressionMetrics_UpperAlphaPercent_Median', 'LineByLineMetrics_CharacterDistribution_[_5b_Percent', 'AstCmdletMetrics_CharacterDistribution_W_57_Percent', 'LineByLineMetrics_Count', 'AstMemberArgumentMetrics_CharacterDistribution_]_5d_Count', 'AstConvertExpressionMetrics_CharacterDistribution_C_43_Percent', 'AstCmdletMetrics_CharacterDistribution_E_45_Count', 'AstVariableNameMetrics_UpperAlphaPercent_Average', 'AstMemberMetrics_Length_Average', 'LineByLineMetrics_CharacterDistribution__22_Percent\"', 'AstCmdletMetrics_Length_Minimum', 'LineByLineMetrics_Density_Maximum', 'AstCmdletMetrics_Length_Median', 'AstStringMetrics_CharacterDistribution_e_65_Percent', 'AstMemberArgumentMetrics_CharacterDistribution_4_34_Count', 'AstGroupedAstTypes_AttributeAst_Count', 'LineByLineMetrics_CharacterDistribution_$_24_Count', 'AstMemberMetrics_CharacterDistribution_E_45_Count', 'AstStringMetrics_CharacterDistribution_4_34_Count', 'AstGroupedAstTypes_CommandAst_Percent', 'AstCmdletMetrics_Length_Average', 'LineByLineMetrics_CharacterDistribution_u_75_Percent', 'AstCmdletMetrics_CharacterDistribution_o_6f_Percent', 'AstMemberArgumentMetrics_CharacterDistribution_Z_5a_Percent', 'AstCommentMetrics_UpperAlphaPercent_Maximum', 'AstVariableNameMetrics_CharacterDistribution_r_72_Percent', 'AstGroupedAstTypes_ParenExpressionAst_Count', 'AstTypeConstraintMetrics_CharacterDistribution_C_43_Count', 'AstMemberMetrics_UpperAlphaPercent_Maximum', 'AstVariableNameMetrics_CharacterDistribution_o_6f_Percent', 'AstMemberArgumentMetrics_CharacterDistribution_B_42_Count', 'AstStringMetrics_Entropy_Minimum', 'AstCmdletMetrics_UpperAlphaPercent_Median', 'AstStringMetrics_CharacterDistribution_}_7d_Count', 'AstMemberMetrics_CharacterDistribution_4_34_Count', 'AstArrayElementMetrics_CharacterDistribution_A_41_Count', 'AstTypeConstraintMetrics_UpperAlphaPercent_Median', 'AstVariableNameMetrics_CharacterDistribution_e_65_Percent', 'AstInvocationOperatorInvokedObjectMetrics_Count', 'AstGroupedAstTypes_PipelineAst_Percent', 'AstCommentMetrics_UpperAlphaPercent_Range', 'AstStringMetrics_CharacterDistribution_G_47_Percent', 'AstFunctionNameMetrics_CharacterDistribution_R_52_Percent', 'AstGroupedAstTypes_VariableExpressionAst_Percent', 'AstMemberMetrics_CharacterDistribution_6_36_Count', 'AstVariableNameMetrics_Length_Median', \"AstArrayElementMetrics_CharacterDistribution_'_27_Percent\", 'LineByLineMetrics_Entropy_Range', 'AstMemberArgumentMetrics_CharacterDistribution_G_47_Percent', 'LineByLineMetrics_CharacterDistribution_Y_59_Percent', 'AstArrayElementMetrics_CharacterDistribution_SpecialCharacterOnly_Count', 'AstVariableNameMetrics_CharacterDistribution_s_73_Percent', 'AstCmdletMetrics_CharacterDistribution_W_57_Count', 'LineByLineMetrics_Length_Average', 'AstStringMetrics_CharacterDistribution_1_31_Count', 'AstCmdletMetrics_Entropy_Median', 'AstMemberMetrics_CharacterDistribution_t_74_Percent', \"LineByLineMetrics_CharacterDistribution_'_27_Count\", 'AstGroupedAstTypes_ParameterAst_Count', 'AstArrayElementMetrics_CharacterDistribution_,_2c_Percent', 'AstInvocationOperatorInvokedObjectMetrics_CharacterDistribution_SPACE_20_Percent', 'AstInvocationOperatorInvokedObjectMetrics_Density_Minimum', 'AstMemberMetrics_CharacterDistribution_`_60_Percent', 'AstVariableNameMetrics_CharacterDistribution_t_74_Percent', 'AstMemberMetrics_CharacterDistribution__22_Percent\"', 'AstFunctionNameMetrics_CharacterDistribution_SpecialCharacterOnly_Percent', 'AstMemberMetrics_Entropy_Average', 'AstGroupedAstTypes_NamedBlockAst_Percent', 'LineByLineMetrics_CharacterDistribution_\\\\_5c_Percent', 'AstInvocationOperatorInvokedObjectMetrics_Entropy_Minimum', 'AstMemberArgumentMetrics_CharacterDistribution_J_4a_Count', 'AstInvocationOperatorInvokedObjectMetrics_CharacterDistribution_,_2c_Percent', 'AstVariableNameMetrics_CharacterDistribution_e_65_Count', 'LineByLineMetrics_CharacterDistribution_`_60_Count', 'AstStringMetrics_Entropy_Median', 'AstVariableNameMetrics_CharacterDistribution_a_61_Percent', 'AstStringMetrics_CharacterDistribution_B_42_Percent', 'LineByLineMetrics_CharacterDistribution_a_61_Percent', 'AstCmdletMetrics_CharacterDistribution_T_54_Percent', 'AstCmdletMetrics_CharacterDistribution_I_49_Percent', 'AstVariableNameMetrics_CharacterDistribution_E_45_Percent', 'AstCmdletMetrics_UpperAlphaPercent_Maximum', 'AstInvocationOperatorInvokedObjectMetrics_CharacterDistribution_)_29_Percent', 'AstVariableNameMetrics_UpperAlphaPercent_Median', 'AstFunctionNameMetrics_UpperAlphaPercent_Average', 'AstGroupedAstTypes_BinaryExpressionAst_Count', 'AstGroupedBinaryExpressionOperators_And_Percent', 'LineByLineMetrics_CharacterDistribution_CR_0D_Count', 'LineByLineMetrics_CharacterDistribution_r_72_Percent', 'AstMemberMetrics_UpperAlphaPercent_Average', 'AstTypeConstraintMetrics_UpperAlphaPercent_Average', 'AstCmdletMetrics_CharacterDistribution_s_73_Count', 'LineByLineMetrics_Entropy_Maximum', \"AstInvocationOperatorInvokedObjectMetrics_CharacterDistribution_'_27_Count\", 'AstCommentMetrics_Count', 'AstConvertExpressionMetrics_UpperAlphaPercent_Average', 'AstStringMetrics_CharacterDistribution_{_7b_Count', 'AstInvocationOperatorInvokedObjectMetrics_CharacterDistribution_-_2d_Percent', 'AstCmdletMetrics_CharacterDistribution_`_60_Percent', 'AstFunctionNameMetrics_UpperAlphaPercent_Maximum', 'AstTypeConstraintMetrics_UpperAlphaPercent_Maximum', 'LineByLineMetrics_CharacterDistribution_c_63_Percent', 'AstMemberMetrics_UpperAlphaPercent_Minimum', \"AstMemberArgumentMetrics_CharacterDistribution_'_27_Percent\", 'AstVariableNameMetrics_CharacterDistribution_{_7b_Count', 'AstInvocationOperatorInvokedObjectMetrics_Length_Median', 'AstMemberArgumentMetrics_CharacterDistribution_t_74_Percent', 'AstStringMetrics_CharacterDistribution_G_47_Count', 'AstInvocationOperatorInvokedObjectMetrics_CharacterDistribution_SpecialCharacterOnly_Percent', 'AstVariableNameMetrics_Length_Total', 'AstInvocationOperatorInvokedObjectMetrics_UpperAlphaPercent_Median', 'AstVariableNameMetrics_CharacterDistribution_}_7d_Count', 'AstGroupedAssignmentStatements_Equals_Count', 'AstFunctionNameMetrics_CharacterDistribution_`_60_Percent', 'AstStringMetrics_Length_Range', 'AstCmdletMetrics_CharacterDistribution_j_6a_Percent', 'AstMemberArgumentMetrics_CharacterDistribution_U_55_Count', 'AstMemberArgumentMetrics_CharacterDistribution_{_7b_Percent', 'LineByLineMetrics_UpperAlphaPercent_Average', 'AstVariableNameMetrics_CharacterDistribution_s_73_Count', 'AstInvocationOperatorInvokedObjectMetrics_Density_Median', 'AstVariableNameMetrics_CharacterDistribution_i_69_Percent', 'LineByLineMetrics_CharacterDistribution_]_5d_Count', 'AstTypeExpressionMetrics_CharacterDistribution_E_45_Percent', 'AstVariableNameMetrics_CharacterDistribution_SpecialCharacterOnly_Percent', 'LineByLineMetrics_Density_Average', 'AstMemberMetrics_Length_Maximum', 'AstMemberMetrics_CharacterDistribution_U_55_Percent', 'AstMemberArgumentMetrics_CharacterDistribution_Z_5a_Count', 'AstTypeExpressionMetrics_CharacterDistribution_H_48_Percent', 'LineByLineMetrics_CharacterDistribution_SpecialCharacterOnly_Count', 'AstInvocationOperatorInvokedObjectMetrics_Entropy_Median', 'AstCmdletMetrics_CharacterDistribution_c_63_Count', 'AstFunctionNameMetrics_CharacterDistribution_`_60_Count', 'AstCmdletMetrics_CharacterDistribution_r_72_Count', 'AstVariableNameMetrics_Entropy_Median', 'LineByLineMetrics_CharacterDistribution_CR_0D_Percent', 'LineByLineMetrics_CharacterDistribution_0_30_Percent', 'AstStringMetrics_CharacterDistribution_0_30_Count', 'AstMemberMetrics_CharacterDistribution_o_6f_Percent', 'AstMemberArgumentMetrics_Length_Maximum', 'LineByLineMetrics_CharacterDistribution_Q_51_Percent', 'AstConvertExpressionMetrics_CharacterDistribution_R_52_Percent', 'AstMemberMetrics_CharacterDistribution_i_69_Percent', 'AstIntegerAndDoubleMetrics_CharacterDistribution_9_39_Percent', 'LineByLineMetrics_CharacterDistribution_}_7d_Percent', 'AstMemberMetrics_CharacterDistribution_4_34_Percent', 'LineByLineMetrics_Length_Total', 'AstCmdletMetrics_Entropy_Minimum', 'AstInvocationOperatorInvokedObjectMetrics_UpperAlphaPercent_Maximum', 'AstStringMetrics_UpperAlphaPercent_Maximum', 'AstStringMetrics_CharacterDistribution_}_7d_Percent', 'AstVariableNameMetrics_CharacterDistribution_a_61_Count', 'AstMemberArgumentMetrics_CharacterDistribution_Y_59_Percent', 'LineByLineMetrics_CharacterDistribution_)_29_Percent', 'LineByLineMetrics_CharacterDistribution_4_34_Count', 'LineByLineMetrics_CharacterDistribution_`_60_Percent', 'AstCmdletMetrics_CharacterDistribution_n_6e_Count', 'AstCmdletMetrics_CharacterDistribution_t_74_Count', 'AstTypeConstraintMetrics_CharacterDistribution_g_67_Count', 'AstTypeConstraintMetrics_CharacterDistribution_t_74_Count', 'AstGroupedAstTypes_ScriptBlockAst_Percent', 'AstCommentMetrics_Entropy_Maximum', 'AstMemberArgumentMetrics_CharacterDistribution_A_41_Percent', 'LineByLineMetrics_CharacterDistribution_=_3d_Percent', 'AstMemberMetrics_CharacterDistribution_6_36_Percent', 'AstCmdletMetrics_CharacterDistribution_B_42_Percent', 'AstStringMetrics_CharacterDistribution_l_6c_Percent', 'LineByLineMetrics_CharacterDistribution_|_7c_Percent', 'AstGroupedBinaryExpressionOperators_Ieq_Percent', 'LineByLineMetrics_Entropy_Average', 'AstMemberArgumentMetrics_Length_Mode', 'AstStringMetrics_CharacterDistribution_{_7b_Percent', 'AstMemberArgumentMetrics_CharacterDistribution_(_28_Count', 'AstCmdletMetrics_Length_Maximum', 'AstCommentMetrics_Entropy_Range', 'AstStringMetrics_UpperAlphaPercent_Range', 'AstStringMetrics_Entropy_Maximum', 'AstGroupedBinaryExpressionOperators_Plus_Percent', 'LineByLineMetrics_CharacterDistribution_1_31_Count', 'AstVariableNameMetrics_CharacterDistribution_{_7b_Percent', 'AstTypeConstraintMetrics_CharacterDistribution_n_6e_Count', 'LineByLineMetrics_CharacterDistribution_6_36_Percent', 'AstVariableNameMetrics_Count', 'AstConvertExpressionMetrics_UpperAlphaPercent_Mode', 'AstMemberArgumentMetrics_CharacterDistribution_}_7d_Percent', 'AstMemberMetrics_CharacterDistribution_}_7d_Count', 'LineByLineMetrics_CharacterDistribution_e_65_Count', 'AstCommentMetrics_Density_Mode', 'AstMemberArgumentMetrics_CharacterDistribution_+_2b_Percent', 'AstStringMetrics_Entropy_Mode', 'AstVariableNameMetrics_CharacterDistribution_}_7d_Percent', 'LineByLineMetrics_CharacterDistribution_o_6f_Percent', 'AstMemberArgumentMetrics_CharacterDistribution_F_46_Count', 'LineByLineMetrics_CharacterDistribution_l_6c_Percent', 'AstInvocationOperatorInvokedObjectMetrics_CharacterDistribution_SPACE_20_Count', 'AstVariableNameMetrics_CharacterDistribution_t_74_Count', 'AstMemberMetrics_CharacterDistribution_E_45_Percent', 'AstStringMetrics_CharacterDistribution_A_41_Percent', 'LineByLineMetrics_UpperAlphaPercent_Minimum', 'AstStringMetrics_CharacterDistribution_E_45_Percent', 'AstMemberArgumentMetrics_CharacterDistribution_g_67_Count', 'AstGroupedAstTypes_BinaryExpressionAst_Percent', 'AstVariableNameMetrics_UpperAlphaPercent_Mode', 'AstMemberMetrics_Length_Range', 'AstCmdletMetrics_CharacterDistribution_c_63_Percent', 'LineByLineMetrics_CharacterDistribution_a_61_Count', 'LineByLineMetrics_CharacterDistribution_B_42_Percent', 'LineByLineMetrics_Length_Maximum', 'AstMemberMetrics_CharacterDistribution_A_41_Percent', 'AstMemberMetrics_CharacterDistribution_e_65_Percent', 'LineByLineMetrics_CharacterDistribution_[_5b_Count', 'LineByLineMetrics_CharacterDistribution_n_6e_Percent', 'AstCommentMetrics_CharacterDistribution_SpecialCharacterOnly_Count', 'AstGroupedAstTypes_CommandExpressionAst_Percent', 'AstStringMetrics_CharacterDistribution_SpecialCharacterOnly_Count', 'LineByLineMetrics_CharacterDistribution_A_41_Count', 'AstConvertExpressionMetrics_CharacterDistribution_H_48_Count', 'AstGroupedAstTypes_VariableExpressionAst_Count', 'AstGroupedAstTypes_CommandParameterAst_Percent', 'AstCommentMetrics_Length_Average', 'LineByLineMetrics_UpperAlphaPercent_Median', 'AstMemberArgumentMetrics_CharacterDistribution_(_28_Percent', 'AstGroupedAstTypes_StringConstantExpressionAst_Count', 'AstInvocationOperatorInvokedObjectMetrics_CharacterDistribution_(_28_Percent', 'AstCommentMetrics_Density_Average', 'AstMemberArgumentMetrics_UpperAlphaPercent_Median', 'LineByLineMetrics_CharacterDistribution_SPACE_20_Percent', 'AstVariableNameMetrics_CharacterDistribution_`_60_Count', 'AstGroupedAstTypes_AssignmentStatementAst_Percent', 'AstCmdletMetrics_Length_Range', 'AstArrayElementMetrics_CharacterDistribution_SpecialCharacterOnly_Percent', 'AstMemberMetrics_CharacterDistribution_SpecialCharacterOnly_Percent', 'AstTypeExpressionMetrics_CharacterDistribution_o_6f_Percent', 'AstMemberArgumentMetrics_CharacterDistribution_Q_51_Count', 'LineByLineMetrics_CharacterDistribution_1_31_Percent', 'AstStringMetrics_CharacterDistribution_A_41_Count', 'LineByLineMetrics_Length_Range', 'AstStringMetrics_Count', 'AstStringMetrics_Length_Minimum', 'LineByLineMetrics_CharacterDistribution_4_34_Percent', 'AstMemberMetrics_CharacterDistribution_y_79_Percent', 'AstVariableNameMetrics_Length_Average', 'AstMemberArgumentMetrics_CharacterDistribution_4_34_Percent', 'AstVariableNameMetrics_Length_Mode', 'LineByLineMetrics_CharacterDistribution_SpecialCharacterOnly_Percent', 'AstMemberMetrics_CharacterDistribution_O_4f_Percent', 'AstStringMetrics_CharacterDistribution_1_31_Percent', 'LineByLineMetrics_CharacterDistribution__22_Count\"', 'AstFunctionNameMetrics_UpperAlphaPercent_Median', 'AstCmdletMetrics_CharacterDistribution_e_65_Percent', 'LineByLineMetrics_CharacterDistribution_+_2b_Percent', 'AstStringMetrics_CharacterDistribution_\\\\_5c_Percent', 'AstVariableNameMetrics_Entropy_Maximum', 'AstMemberArgumentMetrics_CharacterDistribution_6_36_Count', 'AstMemberArgumentMetrics_CharacterDistribution_H_48_Count', 'AstStringMetrics_Entropy_Range', 'LineByLineMetrics_CharacterDistribution_]_5d_Percent', 'AstMemberArgumentMetrics_UpperAlphaPercent_Minimum', 'AstInvocationOperatorInvokedObjectMetrics_UpperAlphaPercent_Average', 'AstMemberArgumentMetrics_CharacterDistribution_]_5d_Percent', 'AstStringMetrics_Length_Maximum', 'AstCommentMetrics_Density_Range', 'LineByLineMetrics_Density_Median', 'AstStringMetrics_CharacterDistribution_4_34_Percent', 'AstInvocationOperatorInvokedObjectMetrics_Length_Total', 'AstVariableNameMetrics_CharacterDistribution_l_6c_Percent', 'LineByLineMetrics_CharacterDistribution_s_73_Count', 'AstTypeConstraintMetrics_CharacterDistribution_S_53_Count', 'AstStringMetrics_CharacterDistribution__22_Percent\"', 'AstGroupedAstTypes_ParamBlockAst_Count', 'LineByLineMetrics_CharacterDistribution_E_45_Count', 'AstCommentMetrics_Density_Maximum']\n",
    "X = X[boruta_shap_accepted_features]\n",
    "# remove \"Json\" style named features for some of the boosted algorithms that don't like the feature names\n",
    "X = X.rename(columns = lambda x:re.sub('[^A-Za-z0-9_]+', '', x))"
   ]
  },
  {
   "cell_type": "code",
   "execution_count": 5,
   "id": "6fc16bf5-1b48-4c14-af4d-e0fa84e5210b",
   "metadata": {},
   "outputs": [],
   "source": [
    "def target_model_predict(model_number, X_data, probabilities = False):\n",
    "    \"\"\"\n",
    "    Wrapper that takes a target model number and returns predictions on the input data X.\n",
    "    \n",
    "    If probabilities=True is passed, probability of obfuscated for each input is returned in an array.\n",
    "    Otherwise 0/1 labels are returned.\n",
    "    \n",
    "    Meant to act like a black box API.\n",
    "    \"\"\"\n",
    "    if(model_number == 1):\n",
    "        if probabilities:\n",
    "            return lr_target_model.predict_proba(X_data)[:,1]\n",
    "        else:\n",
    "            return lr_target_model.predict(X_data)\n",
    "    elif(model_number == 2):\n",
    "        try:\n",
    "            if probabilities:\n",
    "                return lgbm_target_model.predict_proba(X_data.values)[:,1]\n",
    "            else:\n",
    "                return lgbm_target_model.predict(X_data.values)\n",
    "        except:\n",
    "            if probabilities:\n",
    "                return lgbm_target_model.predict_proba(X_data)[:,1]\n",
    "            else:\n",
    "                return lgbm_target_model.predict(X_data)\n",
    "    elif(model_number == 3):\n",
    "        if probabilities:\n",
    "            return nn_target_model.predict(nn_scaler.transform(X_data)).reshape(1, -1)[0]\n",
    "        else:\n",
    "            return np.array(list(map(lambda x: 0 if x < 0.5 else 1, nn_target_model.predict(nn_scaler.transform(X_data))))).reshape(1, -1)[0]\n",
    "    else:\n",
    "        print(f\"[X] predict() error with model number {model_number}\")\n",
    "        return None"
   ]
  },
  {
   "cell_type": "code",
   "execution_count": 6,
   "id": "d5ead4a5-f02a-41f6-8e60-360a391d5aed",
   "metadata": {},
   "outputs": [],
   "source": [
    "# label the data split off all the training/test sets for each model\n",
    "\n",
    "X_train_model1, X_test_model1, y_train_model1, y_test_model1 = train_test_split(X, target_model_predict(1, X), test_size=0.2, random_state=RANDOM_STATE)\n",
    "# Soft-label probabilities instead of hard labels:\n",
    "X_train_model1_prob, X_test_model1_prob, y_train_model1_prob, y_test_model1_prob = train_test_split(X, target_model_predict(1, X, True), test_size=0.2, random_state=RANDOM_STATE)\n",
    "\n",
    "X_train_model2, X_test_model2, y_train_model2, y_test_model2 = train_test_split(X, target_model_predict(2, X), test_size=0.2, random_state=RANDOM_STATE)\n",
    "# Soft-label probabilities instead of hard labels:\n",
    "X_train_model2_prob, X_test_model2_prob, y_train_model2_prob, y_test_model2_prob = train_test_split(X, target_model_predict(2, X, True), test_size=0.2, random_state=RANDOM_STATE)\n",
    "\n",
    "X_train_model3, X_test_model3, y_train_model3, y_test_model3 = train_test_split(X, target_model_predict(3, X), test_size=0.2, random_state=RANDOM_STATE)\n",
    "# Soft-label probabilities instead of hard labels:\n",
    "X_train_model3_prob, X_test_model3_prob, y_train_model3_prob, y_test_model3_prob = train_test_split(X, target_model_predict(3, X, True), test_size=0.2, random_state=RANDOM_STATE)"
   ]
  },
  {
   "cell_type": "markdown",
   "id": "70ac17ed-1de8-47c2-9b48-86c440791b6e",
   "metadata": {},
   "source": [
    "# Helpers"
   ]
  },
  {
   "cell_type": "code",
   "execution_count": 7,
   "id": "36af3714-c40e-45e0-b110-abecdfefe7e5",
   "metadata": {},
   "outputs": [],
   "source": [
    "def display_model_results(results):\n",
    "    # results[name] = [fit_models[name], real_acc, local_adv_acc, target_adv_acc, num_transferred_attacks, target_misclassified_sample_acc]\n",
    "    print(\"\\n\" + tabulate([(name, result[1], result[2], result[3], result[4], result[5]) for name,result in results.items()], headers=[\"Model\", \"Local Model Acc (test)\", \"Local Model Acc (adv)\", \"Target Model Acc (adv)\", \"Attacks Transferred to Target\", \"Attack Transferability\"]))\n",
    "    \n",
    "def is_model_keras(model):\n",
    "    return isinstance(model, keras.Model)"
   ]
  },
  {
   "cell_type": "code",
   "execution_count": 8,
   "id": "454f71f0-66b1-4efc-9d8b-c3394f9fea52",
   "metadata": {
    "tags": []
   },
   "outputs": [],
   "source": [
    "def local_model_predict(local_model, X_data, probabilities = False):\n",
    "    \"\"\"\n",
    "    Performs predictions for the supplied Keras or scikitlearn model.\n",
    "    \"\"\"\n",
    "    if(is_model_keras(local_model)):\n",
    "        if probabilities:\n",
    "            return local_model.predict(X_data).reshape(1, -1)[0]\n",
    "        else:\n",
    "            return list(map(lambda x: 0 if x < 0.5 else 1, local_model.predict(X_data)))\n",
    "    else:\n",
    "        try:\n",
    "            return local_model.predict(X_data.values)\n",
    "        except:\n",
    "            return local_model.predict(X_data)\n",
    "\n",
    "    \n",
    "def get_local_model_accuracy(local_model, X_data, y_data, probabilities = False):\n",
    "    \"\"\"\n",
    "    Returns the accuracy of the supplied model on the X and y data sets.\n",
    "    \"\"\"\n",
    "    if probabilities:\n",
    "        # if the local model is a regression trained on the target probabilities\n",
    "        labels = list(map(lambda x: 0 if x < 0.5 else 1, local_model_predict(local_model, X_data, True)))\n",
    "        y_data_labels = list(map(lambda x: 0 if x < 0.5 else 1, y_data))\n",
    "        return np.sum(np.equal(labels, y_data_labels)) / len(y_data_labels)\n",
    "    else:\n",
    "        return np.sum(np.equal(local_model_predict(local_model, X_data), y_data)) / len(y_data)\n",
    "\n",
    "\n",
    "def get_target_model_accuracy(target_model_number, X_data, y_data):\n",
    "    \"\"\"\n",
    "    Takes a model number, gets predictions using target_model_predict() and returns the accuracy\n",
    "    \"\"\"\n",
    "    return np.sum(np.equal(target_model_predict(target_model_number, X_data), y_data)) / len(y_data)"
   ]
  },
  {
   "cell_type": "markdown",
   "id": "d760de9f-3986-4f56-a357-697a769ce335",
   "metadata": {},
   "source": [
    "# Model3 - Soft Labels"
   ]
  },
  {
   "cell_type": "markdown",
   "id": "f1280389-b767-4556-9376-82c71b96ecfb",
   "metadata": {},
   "source": [
    "Let's try something different with model 3, the most difficult to bypass from the WhiteBox attacks.\n",
    "\n",
    "We'll use the soft label/probability dataset we generated at the beginning to fit a number of regression models that aim to fit the obfuscation probability scores. "
   ]
  },
  {
   "cell_type": "code",
   "execution_count": 9,
   "id": "c3e42d8d-dc64-4021-a551-b54cb6769eaa",
   "metadata": {},
   "outputs": [],
   "source": [
    "def fit_clf_regressors(target_model_number, X_train_data, X_test_data, y_train_data, y_test_data):\n",
    "    \"\"\"\n",
    "    Takes a target model to compare against and a X/y train/test set and fits the following\n",
    "    local regression models against the training data (shallow algorithms use RandomizedSearchCV for\n",
    "    basic hyperparameter searching):\n",
    "    \n",
    "        Linear Regression\n",
    "        Ridge Regression\n",
    "        Lasso Regression\n",
    "        SVM Regressor with rbf kernel\n",
    "        Bayesian Ridge Regressor\n",
    "        Random Forest Regessor\n",
    "        LightGBM Regressor\n",
    "    \"\"\"\n",
    "    \n",
    "    # Shallow machine learning models\n",
    "    pipelines = {\n",
    "        'lr'    : make_pipeline(MinMaxScaler(), LinearRegression()),\n",
    "        'ridge' : make_pipeline(MinMaxScaler(), Ridge()),\n",
    "        'lasso' : make_pipeline(MinMaxScaler(), Lasso()),\n",
    "        'svr'   : make_pipeline(MinMaxScaler(), SVR(kernel='rbf')),\n",
    "        'br'    : BayesianRidge(),\n",
    "        'rf'    : RandomForestRegressor(n_jobs=4, random_state=RANDOM_STATE),\n",
    "        'lgb'   : lgb.LGBMRegressor(n_jobs=4, random_state=RANDOM_STATE)\n",
    "    }\n",
    "\n",
    "    # Hyperparameters for the shallow machine learning models\n",
    "    #    make_pipeline(MinMaxScaler(), LogisticRegression()).get_params().keys()\n",
    "    hyperparameters = {\n",
    "        'lr' : {\n",
    "        },\n",
    "        'ridge' : {\n",
    "            'ridge__alpha': [0.1, 1, 10, 100, 1000]\n",
    "        },\n",
    "        'lasso' : {\n",
    "            'lasso__alpha': [0.1, 1, 10, 100, 1000]\n",
    "        },\n",
    "        'svr' : {\n",
    "            'svr__C': [0.1, 1, 10, 100, 1000],\n",
    "            'svr__gamma': [1, 0.1, 0.01, 0.001, 0.0001]\n",
    "        },\n",
    "        'br' : {\n",
    "\n",
    "        },\n",
    "        'rf'  : { \n",
    "            'n_estimators': [50, 100, 300, 500, 1000, 1500, 2000],\n",
    "            'max_features': ['auto', 'sqrt', 'log2'],\n",
    "            'min_samples_leaf': [1, 3, 5, 7, 10, 15, 20]\n",
    "        },\n",
    "        'lgb' : {\n",
    "            'n_estimators': [50, 100, 300, 500, 1000, 1500],\n",
    "            'learning_rate' : [0.001, 0.01, 0.1, 0.2, 0.3],\n",
    "            'max_depth': [1, 3, 5, 7, 10, 15]\n",
    "        }\n",
    "    }\n",
    "\n",
    "    fit_models = {}\n",
    "    \n",
    "    # fit each shallow model using RandomizedSearchCV on the hyperparameter space\n",
    "    for name, pipeline in pipelines.items():\n",
    "\n",
    "        print(f\"Fitting: {name}\")\n",
    "        \n",
    "        if(name in [\"lr\", \"ridge\", \"lasso\", \"br\"]):\n",
    "            model = GridSearchCV(pipeline, hyperparameters[name], cv=5, n_jobs=4)\n",
    "        else:\n",
    "            model = RandomizedSearchCV(pipeline, hyperparameters[name], cv=5, n_jobs=4)\n",
    "        \n",
    "        model.fit(X_train_data.values, y_train_data)\n",
    "        \n",
    "        fit_models[name] = model\n",
    "\n",
    "    results = {}\n",
    "    \n",
    "    for name,val in fit_models.items():\n",
    "\n",
    "        local_model = fit_models[name]\n",
    "\n",
    "        y_predicted = local_model.predict(X_test_data)\n",
    "        rmse = mean_squared_error(y_test_data, y_predicted, squared=False)\n",
    "        acc = get_local_model_accuracy(local_model, X_test_data.values, y_test_data, True)\n",
    "        results[name] = [fit_models[name], rmse, acc]\n",
    "    \n",
    "    return results\n"
   ]
  },
  {
   "cell_type": "code",
   "execution_count": 10,
   "id": "32d004ff-5806-491b-b067-7d84776ee019",
   "metadata": {},
   "outputs": [
    {
     "name": "stdout",
     "output_type": "stream",
     "text": [
      "Fitting: lr\n",
      "Fitting: ridge\n",
      "Fitting: lasso\n",
      "Fitting: svr\n",
      "Fitting: br\n",
      "Fitting: rf\n",
      "Fitting: lgb\n"
     ]
    }
   ],
   "source": [
    "# fit the regressors\n",
    "results = fit_clf_regressors(3, X_train_model3_prob, X_test_model3_prob, y_train_model3_prob, y_test_model3_prob)"
   ]
  },
  {
   "cell_type": "code",
   "execution_count": 11,
   "id": "7fc65c71-bcaa-46df-b2e0-a7d5d46b0f91",
   "metadata": {},
   "outputs": [
    {
     "data": {
      "text/plain": [
       "['../models/model3_regressors.bin']"
      ]
     },
     "execution_count": 11,
     "metadata": {},
     "output_type": "execute_result"
    }
   ],
   "source": [
    "# save off the models results\n",
    "joblib.dump(results, \"../models/model3_regressors.bin\")"
   ]
  },
  {
   "cell_type": "code",
   "execution_count": 12,
   "id": "3d6f6a9f-75b3-4ae4-8256-9173945ca98e",
   "metadata": {},
   "outputs": [
    {
     "name": "stdout",
     "output_type": "stream",
     "text": [
      "\n",
      "Model      RMSE (test)    Accuracy (test)\n",
      "-------  -------------  -----------------\n",
      "lr           1.7385              0.983333\n",
      "ridge        0.148919            0.983333\n",
      "lasso        0.421433            0.851667\n",
      "svr          0.114037            0.985\n",
      "br           0.6275              0.983333\n",
      "rf           0.0928127           0.99\n",
      "lgb          0.0954514           0.986667\n"
     ]
    }
   ],
   "source": [
    "# display results\n",
    "print(\"\\n\" + tabulate([(name, result[1], result[2]) for name,result in results.items()], headers=[\"Model\", \"RMSE (test)\", \"Accuracy (test)\"]))"
   ]
  },
  {
   "cell_type": "markdown",
   "id": "7463ad10-cc72-408b-b199-cbc4fbe552ae",
   "metadata": {},
   "source": [
    "Let's check out the ranked feature importances for the Random Forest, but only display features where the mean of the feature value is higher for the \"Normal\" (0) label than the \"Obfuscated\" (1) label. This is because we want to add “normal” looking code to an existing obfuscated sample."
   ]
  },
  {
   "cell_type": "code",
   "execution_count": 13,
   "id": "c6f66425-f3e0-482d-8bcf-55db46c0ec4b",
   "metadata": {},
   "outputs": [
    {
     "name": "stdout",
     "output_type": "stream",
     "text": [
      "Feature                                                    Importance    'Normal' Mean    'Obf' Mean\n",
      "-------------------------------------------------------  ------------  ---------------  ------------\n",
      "AstCmdletMetrics_CharacterDistribution_e_65_Percent       0.027748            13.2826      3.27443\n",
      "AstCmdletMetrics_CharacterDistribution_t_74_Percent       0.0242776           10.671       2.27122\n",
      "AstStringMetrics_Entropy_Average                          0.0198968            2.60959     1.51747\n",
      "AstStringMetrics_Length_Median                            0.0159457           25.618       7.236\n",
      "AstStringMetrics_Entropy_Median                           0.0152327            2.79734     1.62165\n",
      "AstStringMetrics_Length_Average                           0.0146659           35.5697      9.94479\n",
      "AstStringMetrics_Length_Mode                              0.00456922          24.0713      5.3\n",
      "AstMemberMetrics_CharacterDistribution_t_74_Percent       0.0043345            6.9418      2.1817\n",
      "AstGroupedAstTypes_VariableExpressionAst_Percent          0.00389463          16.7509      8.7008\n",
      "AstCmdletMetrics_Entropy_Average                          0.00297892           2.84256     1.18014\n",
      "LineByLineMetrics_CharacterDistribution_e_65_Percent      0.00295672           7.70208     4.88947\n",
      "AstCmdletMetrics_Entropy_Median                           0.00254723           2.96548     1.15249\n",
      "LineByLineMetrics_CharacterDistribution_t_74_Percent      0.00222799           5.60125     3.43217\n",
      "AstCmdletMetrics_Length_Median                            0.00218795          11.094       5.35133\n",
      "AstCmdletMetrics_CharacterDistribution_o_6f_Percent       0.00215084           5.38441     1.02836\n",
      "AstStringMetrics_Length_Minimum                           0.00166926           9.88467     4.706\n",
      "AstMemberMetrics_CharacterDistribution_e_65_Percent       0.00157364          10.5323      4.97794\n",
      "AstStringMetrics_Entropy_Mode                             0.0013983            2.10511     0.334645\n",
      "AstCmdletMetrics_Length_Average                           0.00136478          11.1502      5.56759\n",
      "AstCmdletMetrics_CharacterDistribution_t_74_Count         0.00135466          26.478       5.58667\n",
      "AstCmdletMetrics_CharacterDistribution_e_65_Count         0.00132397          31.8927      7.812\n",
      "AstInvocationOperatorInvokedObjectMetrics_Length_Median   0.00108485          39.8267     25.3273\n",
      "AstCmdletMetrics_Entropy_Maximum                          0.000812353          3.46967     1.97939\n",
      "AstCmdletMetrics_Length_Maximum                           0.000750232         18.144      10.556\n",
      "AstCmdletMetrics_Entropy_Mode                             0.000679018          2.77102     1.00277\n",
      "AstCmdletMetrics_CharacterDistribution__2d_Count          0.000664595         16.024       7.35733\n",
      "AstStringMetrics_Entropy_Minimum                          0.000637693          1.12223     0.0354816\n"
     ]
    }
   ],
   "source": [
    "X_boruta_shap = df[boruta_shap_accepted_features + [\"Label\"]].rename(columns = lambda x:re.sub('[^A-Za-z0-9_]+', '', x))\n",
    "rf_classifier = results[\"rf\"][0].best_estimator_\n",
    "\n",
    "feature_imp = sorted(zip(rf_classifier.feature_importances_, X_train_model1.columns), reverse=True)\n",
    "\n",
    "imp_results = []\n",
    "imp_results_normal = []\n",
    "\n",
    "# we're truncating here for display, remove the :100 to display all\n",
    "for (importance, feature) in feature_imp[:100]:\n",
    "    normal_mean, obf_mean = X_boruta_shap.groupby(\"Label\")[feature].mean()\n",
    "    imp_results += [[feature, importance, normal_mean, obf_mean]]\n",
    "    \n",
    "    # only display features that are higher for \"normal\" than \"obfuscated\"\n",
    "    #    uncomment this for all feature importances (saved as model2_blackbox_feature_importances.txt)\n",
    "    if(normal_mean > obf_mean):\n",
    "        imp_results_normal += [[feature, importance, normal_mean, obf_mean]]\n",
    "\n",
    "print(tabulate(imp_results_normal, headers=[\"Feature\", \"Importance\", \"'Normal' Mean\", \"'Obf' Mean\"]))"
   ]
  },
  {
   "cell_type": "markdown",
   "id": "e9ed576c-3daf-4bf8-8200-b4e2b43eef48",
   "metadata": {},
   "source": [
    "Based on the features in this list, we built the `transforms.py` file in this directory, that has:\n",
    "\n",
    "- **insert_cmdlet()** - Inserts a new cmdlet definition with characters/length reflecting the important features.\n",
    "- **insert_string()** - Inserts a random variable and string with characters/length reflecting the important features.\n",
    "- **insert_variable_member()** - Inserts a random variable/member with characters/length reflecting the important features.\n",
    "\n",
    "Each of these functions also have the option to insert a newline after the cmdlet/string/variable member is inserted."
   ]
  },
  {
   "cell_type": "code",
   "execution_count": 14,
   "id": "e7c3dc8a-b499-4c4f-af64-dae5af52dda8",
   "metadata": {},
   "outputs": [],
   "source": [
    "# helpers for the optimization process\n",
    "\n",
    "\n",
    "# exported function from the C# DLL that constructs the AST\n",
    "#   Npte: to create the PS-AST.dll, set the PS-AST project to produce a library instead of a console app \n",
    "dll = ctypes.cdll.LoadLibrary(\"PS-AST.dll\")\n",
    "get_ast = dll.GetAST\n",
    "get_ast.argtypes = [ctypes.c_char_p]\n",
    "get_ast.restype = ctypes.c_char_p\n",
    "\n",
    "\n",
    "def all_subsets(ss):\n",
    "    \"\"\"\n",
    "    Return all non-zero subset combinations of a set.\n",
    "    \"\"\"\n",
    "    temp = list(chain(*map(lambda x: combinations(ss, x), range(0, len(ss)+1))))\n",
    "    return [\"\".join(x) for x in temp if len(x) != 0]\n",
    "\n",
    "\n",
    "def get_script_ast(input_script):\n",
    "    \"\"\"\n",
    "    Runs PS-AST against the target script and returns a dataframe of the measured AST .csv\n",
    "    \"\"\"\n",
    "    \n",
    "    # TODO: update location of PS-AST.exe\n",
    "    output = subprocess.run([\"PS-AST.exe\", input_script, \"-q\"], capture_output=True)\n",
    "    if output.returncode == 0:\n",
    "        return pd.read_csv(StringIO(output.stdout.decode('utf-8')))\n",
    "    else:\n",
    "        return None\n",
    "\n",
    "    \n",
    "def transform_features(X_data):\n",
    "    \"\"\"\n",
    "    Transforms the features for the Boruta-Shap set and encoding.\n",
    "    \"\"\"\n",
    "    \n",
    "    X_data = X_data.drop( ['Path', 'Label'], axis=1)\n",
    "\n",
    "    # the features we're using that were selected by Boruta-Shap\n",
    "    boruta_shap_accepted_features = ['AstCmdletMetrics_CharacterDistribution_&_26_Percent', 'AstMemberArgumentMetrics_Entropy_Median', 'LineByLineMetrics_CharacterDistribution_m_6d_Percent', 'AstInvocationOperatorInvokedObjectMetrics_Entropy_Mode', 'AstMemberArgumentMetrics_CharacterDistribution_e_65_Percent', 'AstMemberArgumentMetrics_CharacterDistribution_B_42_Percent', 'LineByLineMetrics_CharacterDistribution_{_7b_Count', 'AstGroupedBinaryExpressionOperators_Plus_Count', 'AstGroupedAstTypes_StatementBlockAst_Percent', 'LineByLineMetrics_CharacterDistribution_t_74_Percent', 'AstStringMetrics_UpperAlphaPercent_Average', 'AstMemberMetrics_CharacterDistribution_-_2d_Percent', 'AstMemberArgumentMetrics_UpperAlphaPercent_Average', 'AstCmdletMetrics_UpperAlphaPercent_Average', 'LineByLineMetrics_CharacterDistribution_(_28_Percent', 'LineByLineMetrics_CharacterDistribution_A_41_Percent', 'AstGroupedBinaryExpressionOperators_Format_Count', 'AstGroupedAstTypes_AssignmentStatementAst_Count', 'AstCmdletMetrics_CharacterDistribution_t_74_Percent', 'LineByLineMetrics_CharacterDistribution_R_52_Percent', 'AstCommentMetrics_Length_Median', 'AstInvocationOperatorInvokedObjectMetrics_CharacterDistribution_SpecialCharacterOnly_Count', 'AstCmdletMetrics_UpperAlphaPercent_Mode', 'AstArrayElementMetrics_CharacterDistribution_,_2c_Count', 'AstVariableNameMetrics_CharacterDistribution_r_72_Count', 'AstCmdletMetrics_CharacterDistribution_R_52_Count', 'AstCmdletMetrics_CharacterDistribution_n_6e_Percent', 'AstInvocationOperatorInvokedObjectMetrics_Density_Maximum', 'AstFunctionNameMetrics_CharacterDistribution_R_52_Count', 'AstTypeExpressionMetrics_CharacterDistribution_C_43_Percent', 'AstMemberArgumentMetrics_CharacterDistribution_Q_51_Percent', 'AstCmdletMetrics_CharacterDistribution_SpecialCharacterOnly_Percent', 'AstVariableNameMetrics_CharacterDistribution_n_6e_Percent', 'AstGroupedAstTypes_TypeConstraintAst_Count', 'AstStringMetrics_Entropy_Average', 'AstCmdletMetrics_CharacterDistribution_u_75_Percent', 'AstVariableNameMetrics_Length_Maximum', 'LineByLineMetrics_CharacterDistribution_d_64_Percent', 'AstStringMetrics_Length_Average', 'AstVariableNameMetrics_CharacterDistribution_1_31_Percent', 'AstCmdletMetrics_CharacterDistribution_j_6a_Count', 'AstCmdletMetrics_CharacterDistribution_u_75_Count', 'AstGroupedBinaryExpressionOperators_Format_Percent', 'LineByLineMetrics_CharacterDistribution_s_73_Percent', 'AstInvocationOperatorInvokedObjectMetrics_Density_Average', 'LineByLineMetrics_Length_Mode', 'AstMemberMetrics_Entropy_Maximum', 'LineByLineMetrics_CharacterDistribution_#_23_Percent', 'LineByLineMetrics_CharacterDistribution_e_65_Percent', 'AstCmdletMetrics_CharacterDistribution_-_2d_Count', 'AstTypeConstraintMetrics_CharacterDistribution_H_48_Percent', 'LineByLineMetrics_CharacterDistribution_E_45_Percent', \"AstInvocationOperatorInvokedObjectMetrics_CharacterDistribution_'_27_Percent\", 'LineByLineMetrics_Entropy_Mode', 'AstMemberArgumentMetrics_Length_Average', 'AstInvocationOperatorInvokedObjectMetrics_Entropy_Average', 'AstMemberArgumentMetrics_CharacterDistribution_$_24_Percent', 'AstInvocationOperatorInvokedObjectMetrics_Length_Maximum', 'AstMemberArgumentMetrics_CharacterDistribution_)_29_Percent', 'AstConvertExpressionMetrics_CharacterDistribution_H_48_Percent', 'AstGroupedAstTypes_ParenExpressionAst_Percent', 'AstGroupedAstTypes_AttributeAst_Percent', 'AstCommentMetrics_CharacterDistribution_#_23_Count', 'LineByLineMetrics_CharacterDistribution_Y_59_Count', 'AstInvocationOperatorInvokedObjectMetrics_CharacterDistribution_)_29_Count', 'AstMemberMetrics_CharacterDistribution_{_7b_Count', 'AstCmdletMetrics_CharacterDistribution_`_60_Count', 'AstVariableNameMetrics_CharacterDistribution_`_60_Percent', 'LineByLineMetrics_CharacterDistribution_-_2d_Percent', 'AstMemberMetrics_CharacterDistribution_(_28_Percent', 'AstStringMetrics_Length_Median', 'AstCmdletMetrics_CharacterDistribution_o_6f_Count', 'LineByLineMetrics_CharacterDistribution_SPACE_20_Count', 'AstMemberMetrics_Entropy_Median', 'AstMemberArgumentMetrics_UpperAlphaPercent_Mode', 'AstInvocationOperatorInvokedObjectMetrics_Length_Mode', 'LineByLineMetrics_CharacterDistribution_$_24_Percent', 'AstInvocationOperatorInvokedObjectMetrics_Length_Average', 'AstInvocationOperatorInvokedObjectMetrics_CharacterDistribution_(_28_Count', 'AstInvocationOperatorInvokedObjectMetrics_Length_Minimum', 'AstVariableNameMetrics_CharacterDistribution_SpecialCharacterOnly_Count', 'AstMemberMetrics_CharacterDistribution_}_7d_Percent', 'AstTypeExpressionMetrics_CharacterDistribution_x_78_Percent', 'AstInvocationOperatorInvokedObjectMetrics_UpperAlphaPercent_Mode', \"AstMemberArgumentMetrics_CharacterDistribution_'_27_Count\", 'AstInvocationOperatorInvokedObjectMetrics_CharacterDistribution_-_2d_Count', 'AstStringMetrics_CharacterDistribution_Q_51_Count', \"LineByLineMetrics_CharacterDistribution_'_27_Percent\", 'AstArrayElementMetrics_UpperAlphaPercent_Maximum', 'AstMemberMetrics_CharacterDistribution_U_55_Count', 'AstMemberArgumentMetrics_Length_Total', 'AstFunctionNameMetrics_CharacterDistribution_E_45_Percent', 'AstMemberArgumentMetrics_UpperAlphaPercent_Maximum', 'AstTypeExpressionMetrics_CharacterDistribution_B_42_Percent', 'AstGroupedAstTypes_IfStatementAst_Percent', 'LineByLineMetrics_CharacterDistribution_}_7d_Count', 'AstCmdletMetrics_CharacterDistribution_._2e_Percent', 'AstInvocationOperatorInvokedObjectMetrics_Density_Mode', 'AstConvertExpressionMetrics_UpperAlphaPercent_Maximum', 'LineByLineMetrics_CharacterDistribution_i_69_Percent', 'AstVariableNameMetrics_Entropy_Range', \"AstArrayElementMetrics_CharacterDistribution_'_27_Count\", 'AstMemberArgumentMetrics_CharacterDistribution_A_41_Count', 'AstMemberArgumentMetrics_CharacterDistribution_)_29_Count', 'AstStringMetrics_CharacterDistribution_SpecialCharacterOnly_Percent', 'AstCommentMetrics_Entropy_Average', 'AstStringMetrics_CharacterDistribution_Q_51_Percent', 'AstTypeConstraintMetrics_CharacterDistribution_H_48_Count', 'AstMemberArgumentMetrics_CharacterDistribution_U_55_Percent', 'AstInvocationOperatorInvokedObjectMetrics_UpperAlphaPercent_Minimum', 'AstStringMetrics_Length_Total', 'AstMemberMetrics_UpperAlphaPercent_Median', 'AstCmdletMetrics_Entropy_Maximum', 'AstVariableNameMetrics_CharacterDistribution_m_6d_Percent', 'AstMemberArgumentMetrics_CharacterDistribution_G_47_Count', 'AstVariableNameMetrics_Entropy_Average', 'AstGroupedAstTypes_StringConstantExpressionAst_Percent', 'AstMemberMetrics_CharacterDistribution__22_Count\"', 'AstCmdletMetrics_CharacterDistribution_R_52_Percent', 'AstCommentMetrics_CharacterDistribution_SpecialCharacterOnly_Percent', 'AstMemberArgumentMetrics_Length_Median', 'LineByLineMetrics_CharacterDistribution_(_28_Count', 'AstCmdletMetrics_Entropy_Average', 'AstCmdletMetrics_UpperAlphaPercent_Range', 'AstCmdletMetrics_Length_Total', 'AstTypeConstraintMetrics_Length_Total', 'AstMemberMetrics_UpperAlphaPercent_Mode', 'AstFunctionNameMetrics_CharacterDistribution_T_54_Count', 'LineByLineMetrics_UpperAlphaPercent_Range', 'AstCmdletMetrics_CharacterDistribution_-_2d_Percent', 'AstMemberArgumentMetrics_CharacterDistribution_Y_59_Count', 'LineByLineMetrics_CharacterDistribution_w_77_Percent', 'LineByLineMetrics_CharacterDistribution_V_56_Percent', 'LineByLineMetrics_Length_Median', 'LineByLineMetrics_CharacterDistribution_{_7b_Percent', 'LineByLineMetrics_CharacterDistribution_R_52_Count', 'AstMemberArgumentMetrics_CharacterDistribution_E_45_Count', 'AstCmdletMetrics_CharacterDistribution_w_77_Count', 'AstCmdletMetrics_Entropy_Mode', 'AstTypeConstraintMetrics_CharacterDistribution_R_52_Percent', 'AstCmdletMetrics_CharacterDistribution_E_45_Percent', 'AstMemberMetrics_CharacterDistribution_`_60_Count', 'AstMemberMetrics_CharacterDistribution_SpecialCharacterOnly_Count', 'AstStringMetrics_Length_Mode', 'AstStringMetrics_Density_Average', 'AstFunctionNameMetrics_CharacterDistribution_E_45_Count', 'AstMemberArgumentMetrics_Entropy_Maximum', 'AstMemberMetrics_CharacterDistribution_{_7b_Percent', 'AstGroupedAstTypes_ParameterAst_Percent', 'AstCmdletMetrics_Length_Mode', 'AstStringMetrics_CharacterDistribution_E_45_Count', 'AstTypeConstraintMetrics_Count', 'AstCommentMetrics_Density_Median', 'AstTypeConstraintMetrics_CharacterDistribution_C_43_Percent', 'AstGroupedAstTypes_ArrayLiteralAst_Percent', 'LineByLineMetrics_CharacterDistribution_h_68_Percent', 'AstMemberArgumentMetrics_Entropy_Average', 'AstFunctionNameMetrics_UpperAlphaPercent_Minimum', 'AstMemberArgumentMetrics_CharacterDistribution_6_36_Percent', 'LineByLineMetrics_CharacterDistribution_)_29_Count', 'LineByLineMetrics_CharacterDistribution_,_2c_Percent', 'LineByLineMetrics_CharacterDistribution_+_2b_Count', 'AstFunctionNameMetrics_UpperAlphaPercent_Mode', 'AstMemberArgumentMetrics_CharacterDistribution_[_5b_Count', 'AstStringMetrics_CharacterDistribution_Z_5a_Percent', 'AstInvocationOperatorInvokedObjectMetrics_Entropy_Maximum', 'AstFunctionNameMetrics_CharacterDistribution_T_54_Percent', 'AstCommentMetrics_CharacterDistribution_#_23_Percent', 'AstCmdletMetrics_CharacterDistribution_e_65_Count', 'AstCmdletMetrics_UpperAlphaPercent_Minimum', 'LineByLineMetrics_Entropy_Median', 'AstTypeConstraintMetrics_CharacterDistribution_r_72_Count', 'AstCmdletMetrics_CharacterDistribution_w_77_Percent', 'AstConvertExpressionMetrics_UpperAlphaPercent_Median', 'LineByLineMetrics_CharacterDistribution_[_5b_Percent', 'AstCmdletMetrics_CharacterDistribution_W_57_Percent', 'LineByLineMetrics_Count', 'AstMemberArgumentMetrics_CharacterDistribution_]_5d_Count', 'AstConvertExpressionMetrics_CharacterDistribution_C_43_Percent', 'AstCmdletMetrics_CharacterDistribution_E_45_Count', 'AstVariableNameMetrics_UpperAlphaPercent_Average', 'AstMemberMetrics_Length_Average', 'LineByLineMetrics_CharacterDistribution__22_Percent\"', 'AstCmdletMetrics_Length_Minimum', 'LineByLineMetrics_Density_Maximum', 'AstCmdletMetrics_Length_Median', 'AstStringMetrics_CharacterDistribution_e_65_Percent', 'AstMemberArgumentMetrics_CharacterDistribution_4_34_Count', 'AstGroupedAstTypes_AttributeAst_Count', 'LineByLineMetrics_CharacterDistribution_$_24_Count', 'AstMemberMetrics_CharacterDistribution_E_45_Count', 'AstStringMetrics_CharacterDistribution_4_34_Count', 'AstGroupedAstTypes_CommandAst_Percent', 'AstCmdletMetrics_Length_Average', 'LineByLineMetrics_CharacterDistribution_u_75_Percent', 'AstCmdletMetrics_CharacterDistribution_o_6f_Percent', 'AstMemberArgumentMetrics_CharacterDistribution_Z_5a_Percent', 'AstCommentMetrics_UpperAlphaPercent_Maximum', 'AstVariableNameMetrics_CharacterDistribution_r_72_Percent', 'AstGroupedAstTypes_ParenExpressionAst_Count', 'AstTypeConstraintMetrics_CharacterDistribution_C_43_Count', 'AstMemberMetrics_UpperAlphaPercent_Maximum', 'AstVariableNameMetrics_CharacterDistribution_o_6f_Percent', 'AstMemberArgumentMetrics_CharacterDistribution_B_42_Count', 'AstStringMetrics_Entropy_Minimum', 'AstCmdletMetrics_UpperAlphaPercent_Median', 'AstStringMetrics_CharacterDistribution_}_7d_Count', 'AstMemberMetrics_CharacterDistribution_4_34_Count', 'AstArrayElementMetrics_CharacterDistribution_A_41_Count', 'AstTypeConstraintMetrics_UpperAlphaPercent_Median', 'AstVariableNameMetrics_CharacterDistribution_e_65_Percent', 'AstInvocationOperatorInvokedObjectMetrics_Count', 'AstGroupedAstTypes_PipelineAst_Percent', 'AstCommentMetrics_UpperAlphaPercent_Range', 'AstStringMetrics_CharacterDistribution_G_47_Percent', 'AstFunctionNameMetrics_CharacterDistribution_R_52_Percent', 'AstGroupedAstTypes_VariableExpressionAst_Percent', 'AstMemberMetrics_CharacterDistribution_6_36_Count', 'AstVariableNameMetrics_Length_Median', \"AstArrayElementMetrics_CharacterDistribution_'_27_Percent\", 'LineByLineMetrics_Entropy_Range', 'AstMemberArgumentMetrics_CharacterDistribution_G_47_Percent', 'LineByLineMetrics_CharacterDistribution_Y_59_Percent', 'AstArrayElementMetrics_CharacterDistribution_SpecialCharacterOnly_Count', 'AstVariableNameMetrics_CharacterDistribution_s_73_Percent', 'AstCmdletMetrics_CharacterDistribution_W_57_Count', 'LineByLineMetrics_Length_Average', 'AstStringMetrics_CharacterDistribution_1_31_Count', 'AstCmdletMetrics_Entropy_Median', 'AstMemberMetrics_CharacterDistribution_t_74_Percent', \"LineByLineMetrics_CharacterDistribution_'_27_Count\", 'AstGroupedAstTypes_ParameterAst_Count', 'AstArrayElementMetrics_CharacterDistribution_,_2c_Percent', 'AstInvocationOperatorInvokedObjectMetrics_CharacterDistribution_SPACE_20_Percent', 'AstInvocationOperatorInvokedObjectMetrics_Density_Minimum', 'AstMemberMetrics_CharacterDistribution_`_60_Percent', 'AstVariableNameMetrics_CharacterDistribution_t_74_Percent', 'AstMemberMetrics_CharacterDistribution__22_Percent\"', 'AstFunctionNameMetrics_CharacterDistribution_SpecialCharacterOnly_Percent', 'AstMemberMetrics_Entropy_Average', 'AstGroupedAstTypes_NamedBlockAst_Percent', 'LineByLineMetrics_CharacterDistribution_\\\\_5c_Percent', 'AstInvocationOperatorInvokedObjectMetrics_Entropy_Minimum', 'AstMemberArgumentMetrics_CharacterDistribution_J_4a_Count', 'AstInvocationOperatorInvokedObjectMetrics_CharacterDistribution_,_2c_Percent', 'AstVariableNameMetrics_CharacterDistribution_e_65_Count', 'LineByLineMetrics_CharacterDistribution_`_60_Count', 'AstStringMetrics_Entropy_Median', 'AstVariableNameMetrics_CharacterDistribution_a_61_Percent', 'AstStringMetrics_CharacterDistribution_B_42_Percent', 'LineByLineMetrics_CharacterDistribution_a_61_Percent', 'AstCmdletMetrics_CharacterDistribution_T_54_Percent', 'AstCmdletMetrics_CharacterDistribution_I_49_Percent', 'AstVariableNameMetrics_CharacterDistribution_E_45_Percent', 'AstCmdletMetrics_UpperAlphaPercent_Maximum', 'AstInvocationOperatorInvokedObjectMetrics_CharacterDistribution_)_29_Percent', 'AstVariableNameMetrics_UpperAlphaPercent_Median', 'AstFunctionNameMetrics_UpperAlphaPercent_Average', 'AstGroupedAstTypes_BinaryExpressionAst_Count', 'AstGroupedBinaryExpressionOperators_And_Percent', 'LineByLineMetrics_CharacterDistribution_CR_0D_Count', 'LineByLineMetrics_CharacterDistribution_r_72_Percent', 'AstMemberMetrics_UpperAlphaPercent_Average', 'AstTypeConstraintMetrics_UpperAlphaPercent_Average', 'AstCmdletMetrics_CharacterDistribution_s_73_Count', 'LineByLineMetrics_Entropy_Maximum', \"AstInvocationOperatorInvokedObjectMetrics_CharacterDistribution_'_27_Count\", 'AstCommentMetrics_Count', 'AstConvertExpressionMetrics_UpperAlphaPercent_Average', 'AstStringMetrics_CharacterDistribution_{_7b_Count', 'AstInvocationOperatorInvokedObjectMetrics_CharacterDistribution_-_2d_Percent', 'AstCmdletMetrics_CharacterDistribution_`_60_Percent', 'AstFunctionNameMetrics_UpperAlphaPercent_Maximum', 'AstTypeConstraintMetrics_UpperAlphaPercent_Maximum', 'LineByLineMetrics_CharacterDistribution_c_63_Percent', 'AstMemberMetrics_UpperAlphaPercent_Minimum', \"AstMemberArgumentMetrics_CharacterDistribution_'_27_Percent\", 'AstVariableNameMetrics_CharacterDistribution_{_7b_Count', 'AstInvocationOperatorInvokedObjectMetrics_Length_Median', 'AstMemberArgumentMetrics_CharacterDistribution_t_74_Percent', 'AstStringMetrics_CharacterDistribution_G_47_Count', 'AstInvocationOperatorInvokedObjectMetrics_CharacterDistribution_SpecialCharacterOnly_Percent', 'AstVariableNameMetrics_Length_Total', 'AstInvocationOperatorInvokedObjectMetrics_UpperAlphaPercent_Median', 'AstVariableNameMetrics_CharacterDistribution_}_7d_Count', 'AstGroupedAssignmentStatements_Equals_Count', 'AstFunctionNameMetrics_CharacterDistribution_`_60_Percent', 'AstStringMetrics_Length_Range', 'AstCmdletMetrics_CharacterDistribution_j_6a_Percent', 'AstMemberArgumentMetrics_CharacterDistribution_U_55_Count', 'AstMemberArgumentMetrics_CharacterDistribution_{_7b_Percent', 'LineByLineMetrics_UpperAlphaPercent_Average', 'AstVariableNameMetrics_CharacterDistribution_s_73_Count', 'AstInvocationOperatorInvokedObjectMetrics_Density_Median', 'AstVariableNameMetrics_CharacterDistribution_i_69_Percent', 'LineByLineMetrics_CharacterDistribution_]_5d_Count', 'AstTypeExpressionMetrics_CharacterDistribution_E_45_Percent', 'AstVariableNameMetrics_CharacterDistribution_SpecialCharacterOnly_Percent', 'LineByLineMetrics_Density_Average', 'AstMemberMetrics_Length_Maximum', 'AstMemberMetrics_CharacterDistribution_U_55_Percent', 'AstMemberArgumentMetrics_CharacterDistribution_Z_5a_Count', 'AstTypeExpressionMetrics_CharacterDistribution_H_48_Percent', 'LineByLineMetrics_CharacterDistribution_SpecialCharacterOnly_Count', 'AstInvocationOperatorInvokedObjectMetrics_Entropy_Median', 'AstCmdletMetrics_CharacterDistribution_c_63_Count', 'AstFunctionNameMetrics_CharacterDistribution_`_60_Count', 'AstCmdletMetrics_CharacterDistribution_r_72_Count', 'AstVariableNameMetrics_Entropy_Median', 'LineByLineMetrics_CharacterDistribution_CR_0D_Percent', 'LineByLineMetrics_CharacterDistribution_0_30_Percent', 'AstStringMetrics_CharacterDistribution_0_30_Count', 'AstMemberMetrics_CharacterDistribution_o_6f_Percent', 'AstMemberArgumentMetrics_Length_Maximum', 'LineByLineMetrics_CharacterDistribution_Q_51_Percent', 'AstConvertExpressionMetrics_CharacterDistribution_R_52_Percent', 'AstMemberMetrics_CharacterDistribution_i_69_Percent', 'AstIntegerAndDoubleMetrics_CharacterDistribution_9_39_Percent', 'LineByLineMetrics_CharacterDistribution_}_7d_Percent', 'AstMemberMetrics_CharacterDistribution_4_34_Percent', 'LineByLineMetrics_Length_Total', 'AstCmdletMetrics_Entropy_Minimum', 'AstInvocationOperatorInvokedObjectMetrics_UpperAlphaPercent_Maximum', 'AstStringMetrics_UpperAlphaPercent_Maximum', 'AstStringMetrics_CharacterDistribution_}_7d_Percent', 'AstVariableNameMetrics_CharacterDistribution_a_61_Count', 'AstMemberArgumentMetrics_CharacterDistribution_Y_59_Percent', 'LineByLineMetrics_CharacterDistribution_)_29_Percent', 'LineByLineMetrics_CharacterDistribution_4_34_Count', 'LineByLineMetrics_CharacterDistribution_`_60_Percent', 'AstCmdletMetrics_CharacterDistribution_n_6e_Count', 'AstCmdletMetrics_CharacterDistribution_t_74_Count', 'AstTypeConstraintMetrics_CharacterDistribution_g_67_Count', 'AstTypeConstraintMetrics_CharacterDistribution_t_74_Count', 'AstGroupedAstTypes_ScriptBlockAst_Percent', 'AstCommentMetrics_Entropy_Maximum', 'AstMemberArgumentMetrics_CharacterDistribution_A_41_Percent', 'LineByLineMetrics_CharacterDistribution_=_3d_Percent', 'AstMemberMetrics_CharacterDistribution_6_36_Percent', 'AstCmdletMetrics_CharacterDistribution_B_42_Percent', 'AstStringMetrics_CharacterDistribution_l_6c_Percent', 'LineByLineMetrics_CharacterDistribution_|_7c_Percent', 'AstGroupedBinaryExpressionOperators_Ieq_Percent', 'LineByLineMetrics_Entropy_Average', 'AstMemberArgumentMetrics_Length_Mode', 'AstStringMetrics_CharacterDistribution_{_7b_Percent', 'AstMemberArgumentMetrics_CharacterDistribution_(_28_Count', 'AstCmdletMetrics_Length_Maximum', 'AstCommentMetrics_Entropy_Range', 'AstStringMetrics_UpperAlphaPercent_Range', 'AstStringMetrics_Entropy_Maximum', 'AstGroupedBinaryExpressionOperators_Plus_Percent', 'LineByLineMetrics_CharacterDistribution_1_31_Count', 'AstVariableNameMetrics_CharacterDistribution_{_7b_Percent', 'AstTypeConstraintMetrics_CharacterDistribution_n_6e_Count', 'LineByLineMetrics_CharacterDistribution_6_36_Percent', 'AstVariableNameMetrics_Count', 'AstConvertExpressionMetrics_UpperAlphaPercent_Mode', 'AstMemberArgumentMetrics_CharacterDistribution_}_7d_Percent', 'AstMemberMetrics_CharacterDistribution_}_7d_Count', 'LineByLineMetrics_CharacterDistribution_e_65_Count', 'AstCommentMetrics_Density_Mode', 'AstMemberArgumentMetrics_CharacterDistribution_+_2b_Percent', 'AstStringMetrics_Entropy_Mode', 'AstVariableNameMetrics_CharacterDistribution_}_7d_Percent', 'LineByLineMetrics_CharacterDistribution_o_6f_Percent', 'AstMemberArgumentMetrics_CharacterDistribution_F_46_Count', 'LineByLineMetrics_CharacterDistribution_l_6c_Percent', 'AstInvocationOperatorInvokedObjectMetrics_CharacterDistribution_SPACE_20_Count', 'AstVariableNameMetrics_CharacterDistribution_t_74_Count', 'AstMemberMetrics_CharacterDistribution_E_45_Percent', 'AstStringMetrics_CharacterDistribution_A_41_Percent', 'LineByLineMetrics_UpperAlphaPercent_Minimum', 'AstStringMetrics_CharacterDistribution_E_45_Percent', 'AstMemberArgumentMetrics_CharacterDistribution_g_67_Count', 'AstGroupedAstTypes_BinaryExpressionAst_Percent', 'AstVariableNameMetrics_UpperAlphaPercent_Mode', 'AstMemberMetrics_Length_Range', 'AstCmdletMetrics_CharacterDistribution_c_63_Percent', 'LineByLineMetrics_CharacterDistribution_a_61_Count', 'LineByLineMetrics_CharacterDistribution_B_42_Percent', 'LineByLineMetrics_Length_Maximum', 'AstMemberMetrics_CharacterDistribution_A_41_Percent', 'AstMemberMetrics_CharacterDistribution_e_65_Percent', 'LineByLineMetrics_CharacterDistribution_[_5b_Count', 'LineByLineMetrics_CharacterDistribution_n_6e_Percent', 'AstCommentMetrics_CharacterDistribution_SpecialCharacterOnly_Count', 'AstGroupedAstTypes_CommandExpressionAst_Percent', 'AstStringMetrics_CharacterDistribution_SpecialCharacterOnly_Count', 'LineByLineMetrics_CharacterDistribution_A_41_Count', 'AstConvertExpressionMetrics_CharacterDistribution_H_48_Count', 'AstGroupedAstTypes_VariableExpressionAst_Count', 'AstGroupedAstTypes_CommandParameterAst_Percent', 'AstCommentMetrics_Length_Average', 'LineByLineMetrics_UpperAlphaPercent_Median', 'AstMemberArgumentMetrics_CharacterDistribution_(_28_Percent', 'AstGroupedAstTypes_StringConstantExpressionAst_Count', 'AstInvocationOperatorInvokedObjectMetrics_CharacterDistribution_(_28_Percent', 'AstCommentMetrics_Density_Average', 'AstMemberArgumentMetrics_UpperAlphaPercent_Median', 'LineByLineMetrics_CharacterDistribution_SPACE_20_Percent', 'AstVariableNameMetrics_CharacterDistribution_`_60_Count', 'AstGroupedAstTypes_AssignmentStatementAst_Percent', 'AstCmdletMetrics_Length_Range', 'AstArrayElementMetrics_CharacterDistribution_SpecialCharacterOnly_Percent', 'AstMemberMetrics_CharacterDistribution_SpecialCharacterOnly_Percent', 'AstTypeExpressionMetrics_CharacterDistribution_o_6f_Percent', 'AstMemberArgumentMetrics_CharacterDistribution_Q_51_Count', 'LineByLineMetrics_CharacterDistribution_1_31_Percent', 'AstStringMetrics_CharacterDistribution_A_41_Count', 'LineByLineMetrics_Length_Range', 'AstStringMetrics_Count', 'AstStringMetrics_Length_Minimum', 'LineByLineMetrics_CharacterDistribution_4_34_Percent', 'AstMemberMetrics_CharacterDistribution_y_79_Percent', 'AstVariableNameMetrics_Length_Average', 'AstMemberArgumentMetrics_CharacterDistribution_4_34_Percent', 'AstVariableNameMetrics_Length_Mode', 'LineByLineMetrics_CharacterDistribution_SpecialCharacterOnly_Percent', 'AstMemberMetrics_CharacterDistribution_O_4f_Percent', 'AstStringMetrics_CharacterDistribution_1_31_Percent', 'LineByLineMetrics_CharacterDistribution__22_Count\"', 'AstFunctionNameMetrics_UpperAlphaPercent_Median', 'AstCmdletMetrics_CharacterDistribution_e_65_Percent', 'LineByLineMetrics_CharacterDistribution_+_2b_Percent', 'AstStringMetrics_CharacterDistribution_\\\\_5c_Percent', 'AstVariableNameMetrics_Entropy_Maximum', 'AstMemberArgumentMetrics_CharacterDistribution_6_36_Count', 'AstMemberArgumentMetrics_CharacterDistribution_H_48_Count', 'AstStringMetrics_Entropy_Range', 'LineByLineMetrics_CharacterDistribution_]_5d_Percent', 'AstMemberArgumentMetrics_UpperAlphaPercent_Minimum', 'AstInvocationOperatorInvokedObjectMetrics_UpperAlphaPercent_Average', 'AstMemberArgumentMetrics_CharacterDistribution_]_5d_Percent', 'AstStringMetrics_Length_Maximum', 'AstCommentMetrics_Density_Range', 'LineByLineMetrics_Density_Median', 'AstStringMetrics_CharacterDistribution_4_34_Percent', 'AstInvocationOperatorInvokedObjectMetrics_Length_Total', 'AstVariableNameMetrics_CharacterDistribution_l_6c_Percent', 'LineByLineMetrics_CharacterDistribution_s_73_Count', 'AstTypeConstraintMetrics_CharacterDistribution_S_53_Count', 'AstStringMetrics_CharacterDistribution__22_Percent\"', 'AstGroupedAstTypes_ParamBlockAst_Count', 'LineByLineMetrics_CharacterDistribution_E_45_Count', 'AstCommentMetrics_Density_Maximum']\n",
    "    X_data = X_data[boruta_shap_accepted_features]\n",
    "    \n",
    "    # remove \"Json\" style named features for some of the boosted algorithms that don't like the feature names\n",
    "    X_data = X_data.rename(columns = lambda x:re.sub('[^A-Za-z0-9_]+', '', x))\n",
    "    \n",
    "    return X_data\n",
    "\n",
    "\n",
    "def get_script_df(input_script):\n",
    "    \"\"\"\n",
    "    Gets the ast for the script file with get_script_ast() and returns the Boruta-SHAP features with transform_features()\n",
    "    \"\"\"\n",
    "    return transform_features(get_script_ast(input_script))\n",
    "\n",
    "\n",
    "def get_script_text_df(script_text):\n",
    "    \"\"\"\n",
    "    Gets the ast for the script text with get_ast() and returns the Boruta-SHAP features with transform_features()\n",
    "    \"\"\"\n",
    "    return transform_features(pd.read_csv(StringIO(get_ast(script_text.encode(\"ascii\")).decode(\"ascii\"))))"
   ]
  },
  {
   "cell_type": "markdown",
   "id": "4dda1c90-50b6-4b99-979a-90391da84a77",
   "metadata": {},
   "source": [
    "Now let's set up our objective function to optimize the code added to the target obfuscated script."
   ]
  },
  {
   "cell_type": "code",
   "execution_count": 46,
   "id": "3a901144-34aa-4335-aeb0-a9fdf63643d1",
   "metadata": {},
   "outputs": [],
   "source": [
    "# the script we're aiming to obfuscation\n",
    "target_script_file = \"../samples/DBOdemo1.ps1\"\n",
    "\n",
    "with open(target_script_file, \"rb\") as file:\n",
    "    target_script_text_bytes = file.read()\n",
    "    # strip off the dumb 2 byte unicode BOM thing\n",
    "    target_script_text = target_script_text_bytes[len(codecs.BOM_UTF16_LE):].decode('utf-16-le')\n",
    "\n",
    "# maximum number of transforms allowed per type\n",
    "num_transforms_limit = 50\n",
    "\n",
    "# placeholder that's updated so we can save off the best performing transformed script\n",
    "best_normal_size_inc = 1000000\n",
    "\n",
    "\n",
    "def objective(trial):\n",
    "    \n",
    "    global best_normal_size_inc\n",
    "    \n",
    "    start_time = time.time()\n",
    "   \n",
    "    modified_script_text = target_script_text\n",
    "    \n",
    "    time_mark = time.time()\n",
    "    \n",
    "    script_transforms = {\n",
    "        \"cmdlet_num\" : trial.suggest_int(\"cmdlet_num\", 1, num_transforms_limit), # number of cmdlets to create\n",
    "        \"cmdlet_len\" : trial.suggest_int(\"cmdlet_len\", 6, 18), # length of the cmdlet to create\n",
    "        \"cmdlet_chars\" : \"ttttteeero\", #trial.suggest_categorical(\"cmdlet_chars\", all_subsets([\"t\", \"e\", \"r\", \"o\", \"t\"])), # characters to use for the cmdlet\n",
    "        \"cmdlet_dashcount\" : trial.suggest_int(\"cmdlet_dashcount\", 1, 20), # number of dashes to add for the cmdlet name\n",
    "        \n",
    "        \"cmdlet_num_newline\" : trial.suggest_int(\"cmdlet_num_newline\", 1, num_transforms_limit), # number of cmdlets to create\n",
    "        \"cmdlet_len_newline\" : trial.suggest_int(\"cmdlet_len_newline\", 6, 18), # length of the cmdlet to create\n",
    "        \"cmdlet_chars_newline\" : \"ttttteeero\", #trial.suggest_categorical(\"cmdlet_chars_newline\", all_subsets([\"t\", \"e\", \"r\", \"o\", \"t\"])), # characters to use for the cmdlet\n",
    "        \"cmdlet_dashcount_newline\" : trial.suggest_int(\"cmdlet_dashcount_newline\", 1, 20), # number of dashes to add for the cmdlet name\n",
    "        \n",
    "        \"str_num\" : trial.suggest_int(\"str_num\", 1, num_transforms_limit), # number of strings to create\n",
    "        \"str_var_len\" : trial.suggest_int(\"str_var_len\", 7, 9), # length of the variable name to create\n",
    "        \"str_var_chars\" : \"rae\", #trial.suggest_categorical(\"str_var_chars\", all_subsets([\"r\", \"a\", \"e\"])), # characters to use for the variable\n",
    "        \"str_str_len\" : trial.suggest_int(\"str_str_len\", 10, 60), # length of the string to create\n",
    "        \"str_str_chars\" : \"eeeee\\\\\\\\ttsh\", #trial.suggest_categorical(\"str_str_chars\", all_subsets([\"e\", \"\\\\\", \"t\", \"s\", \"h\", \"l\"])), # characters to use for the variable\n",
    "        \n",
    "        \"str_num_newline\" : trial.suggest_int(\"str_num_newline\", 1, num_transforms_limit), # number of strings to create\n",
    "        \"str_var_len_newline\" : trial.suggest_int(\"str_var_len_newline\", 7, 9), # length of the variable name to create\n",
    "        \"str_var_chars_newline\" : \"rae\", #trial.suggest_categorical(\"str_var_chars_newline\", all_subsets([\"r\", \"a\", \"e\"])), # characters to use for the variable\n",
    "        \"str_str_len_newline\" : trial.suggest_int(\"str_str_len_newline\", 10, 60), # length of the string to create\n",
    "        \"str_str_chars_newline\" : \"eeeee\\\\\\\\ttsh\", #trial.suggest_categorical(\"str_str_chars_newline\", all_subsets([\"e\", \"\\\\\", \"t\", \"s\", \"h\", \"l\"])), # characters to use for the variable\n",
    "\n",
    "        \"variable_num\" : trial.suggest_int(\"variable_num\", 1, num_transforms_limit), # number of variables to create\n",
    "        \"variable_var_len\" : trial.suggest_int(\"variable_var_len\", 7, 9), # length of the variable name to create\n",
    "        \"variable_var_chars\" : \"rae\", #trial.suggest_categorical(\"variable_var_chars\", all_subsets([\"r\", \"a\", \"e\"])), # characters to use for the variable\n",
    "        \"variable_member_len\" : trial.suggest_int(\"variable_member_len\", 3, 14), # length of the member to create\n",
    "        \"variable_member_chars\" : \"ttteeo\", #trial.suggest_categorical(\"variable_member_chars\", all_subsets([\"t\", \"e\", \"o\"])), # characters to use for the member\n",
    "    \n",
    "        \"variable_num_newline\" : trial.suggest_int(\"variable_num_newline\", 1, num_transforms_limit), # number of variables to create\n",
    "        \"variable_var_len_newline\" : trial.suggest_int(\"variable_var_len_newline\", 7, 9), # length of the variable name to create\n",
    "        \"variable_var_chars_newline\" : \"rae\", #trial.suggest_categorical(\"variable_var_chars_newline\", all_subsets([\"r\", \"a\", \"e\"])), # characters to use for the variable\n",
    "        \"variable_member_len_newline\" : trial.suggest_int(\"variable_member_len_newline\", 3, 14), # length of the member to create\n",
    "        \"variable_member_chars_newline\" : \"ttteeo\", #trial.suggest_categorical(\"variable_member_chars_newline\", all_subsets([\"t\", \"e\", \"o\"])), # characters to use for the member\n",
    "    }\n",
    "    \n",
    "    \n",
    "    # transform the script text\n",
    "    for i in range(script_transforms[\"cmdlet_num\"]):\n",
    "        modified_script_text = transforms.insert_cmdlet(modified_script_text, script_transforms[\"cmdlet_len\"], script_transforms[\"cmdlet_chars\"], script_transforms[\"cmdlet_dashcount\"], insert_newline=False)\n",
    "    for i in range(script_transforms[\"cmdlet_num_newline\"]):\n",
    "        modified_script_text = transforms.insert_cmdlet(modified_script_text, script_transforms[\"cmdlet_len_newline\"], script_transforms[\"cmdlet_chars_newline\"], script_transforms[\"cmdlet_dashcount_newline\"], insert_newline=True)\n",
    "\n",
    "    for i in range(script_transforms[\"str_num\"]):\n",
    "        modified_script_text = transforms.insert_string(modified_script_text, script_transforms[\"str_var_len\"], script_transforms[\"str_var_chars\"], script_transforms[\"str_str_len\"], script_transforms[\"str_str_chars\"], insert_newline=False)\n",
    "    for i in range(script_transforms[\"str_num_newline\"]):\n",
    "        modified_script_text = transforms.insert_string(modified_script_text, script_transforms[\"str_var_len_newline\"], script_transforms[\"str_var_chars_newline\"], script_transforms[\"str_str_len_newline\"], script_transforms[\"str_str_chars_newline\"], insert_newline=True)\n",
    "    \n",
    "    for i in range(script_transforms[\"variable_num\"]):\n",
    "        modified_script_text = transforms.insert_variable_member(modified_script_text, script_transforms[\"variable_var_len\"], script_transforms[\"variable_var_chars\"], script_transforms[\"variable_member_len\"], script_transforms[\"variable_member_chars\"], insert_newline=False)\n",
    "    for i in range(script_transforms[\"variable_num_newline\"]):\n",
    "        modified_script_text = transforms.insert_variable_member(modified_script_text, script_transforms[\"variable_var_len_newline\"], script_transforms[\"variable_var_chars_newline\"], script_transforms[\"variable_member_len_newline\"], script_transforms[\"variable_member_chars_newline\"], insert_newline=True)\n",
    "    \n",
    "\n",
    "    # check how many additional characters have been added\n",
    "    chars_added = len(modified_script_text) - len(target_script_text)\n",
    "    \n",
    "    # get the % size increase for the added characters\n",
    "    size_inc = (chars_added / len(target_script_text)) * 100\n",
    "    \n",
    "    # get the AST measurements for the script\n",
    "    df_values = get_script_text_df(modified_script_text).values\n",
    "    \n",
    "    # get the probability that the script is obfuscated\n",
    "    target_obf_score = target_model_predict(3, df_values, probabilities=True)[0]*100\n",
    "    \n",
    "    save_file = \"../samples/obf_best_model3.ps1\"\n",
    "    \n",
    "    if(target_obf_score < 50):        \n",
    "        # Once we cross the obfuscation threshold, we want to focus on minimizing the total size increase instead,\n",
    "        #     So basically here, once the obfuscation score crosses below 50 for the target model, it's pushed to the lower bound\n",
    "        target_obf_score = target_obf_score / 1000\n",
    "        \n",
    "        # If this is the best performing model so far, save it off.\n",
    "        if(size_inc < best_normal_size_inc):\n",
    "            \n",
    "            print(f\"[+] {datetime.datetime.now().strftime('%H:%M:%S')} - Saving file with size increase of {'{:.2f}'.format(size_inc)}% (+{chars_added} chars) and target_obf_score of {'{:.2f}'.format(target_obf_score * 1000)} to '{save_file}'\")\n",
    "            best_normal_size_inc = size_inc\n",
    "\n",
    "            with open(save_file, \"wb\") as myfile:\n",
    "                myfile.write(modified_script_text.encode('utf-16'))\n",
    "    \n",
    "    return size_inc, target_obf_score"
   ]
  },
  {
   "cell_type": "code",
   "execution_count": 47,
   "id": "c9ab6011-c326-4363-bc9c-01ec73ebb869",
   "metadata": {},
   "outputs": [
    {
     "name": "stdout",
     "output_type": "stream",
     "text": [
      "obf_probability for model 1: 100.000\n",
      "obf_probability for model 2: 99.842\n",
      "obf_probability for model 3: 100.000\n"
     ]
    }
   ],
   "source": [
    "obf_target_ast = get_script_df(target_script_file).values\n",
    "\n",
    "for i in range(1, 4):\n",
    "    obf_score = target_model_predict(i, obf_target_ast, probabilities=True)[0]*100\n",
    "    print(f\"obf_probability for model {i}: {'{:.3f}'.format(obf_score)}\")"
   ]
  },
  {
   "cell_type": "code",
   "execution_count": 48,
   "id": "2db5adbd-c662-4765-9b20-ffa7d838dbf9",
   "metadata": {},
   "outputs": [
    {
     "name": "stdout",
     "output_type": "stream",
     "text": [
      "\n",
      "[*] Starting optimization at 08:25:50 with 1800 second timeout\n",
      "\n",
      "[+] 08:25:54 - Saving file with size increase of 180.05% (+9431 chars) and target_obf_score of 0.43 to '../samples/obf_best_model3.ps1'\n",
      "[+] 08:25:54 - Saving file with size increase of 113.04% (+5921 chars) and target_obf_score of 7.77 to '../samples/obf_best_model3.ps1'\n",
      "[+] 08:26:07 - Saving file with size increase of 107.58% (+5635 chars) and target_obf_score of 33.53 to '../samples/obf_best_model3.ps1'\n",
      "[+] 08:26:11 - Saving file with size increase of 104.49% (+5473 chars) and target_obf_score of 3.07 to '../samples/obf_best_model3.ps1'\n",
      "[+] 08:26:24 - Saving file with size increase of 81.46% (+4267 chars) and target_obf_score of 25.31 to '../samples/obf_best_model3.ps1'\n",
      "[+] 08:26:33 - Saving file with size increase of 76.06% (+3984 chars) and target_obf_score of 15.55 to '../samples/obf_best_model3.ps1'\n",
      "[+] 08:26:43 - Saving file with size increase of 72.93% (+3820 chars) and target_obf_score of 19.53 to '../samples/obf_best_model3.ps1'\n",
      "[+] 08:27:09 - Saving file with size increase of 41.07% (+2151 chars) and target_obf_score of 17.65 to '../samples/obf_best_model3.ps1'\n",
      "[+] 08:28:59 - Saving file with size increase of 38.83% (+2034 chars) and target_obf_score of 44.92 to '../samples/obf_best_model3.ps1'\n",
      "[+] 08:29:29 - Saving file with size increase of 37.30% (+1954 chars) and target_obf_score of 26.48 to '../samples/obf_best_model3.ps1'\n",
      "[+] 08:29:42 - Saving file with size increase of 36.71% (+1923 chars) and target_obf_score of 23.62 to '../samples/obf_best_model3.ps1'\n",
      "[+] 08:30:44 - Saving file with size increase of 35.80% (+1875 chars) and target_obf_score of 16.65 to '../samples/obf_best_model3.ps1'\n",
      "[+] 08:30:55 - Saving file with size increase of 33.91% (+1776 chars) and target_obf_score of 19.42 to '../samples/obf_best_model3.ps1'\n",
      "[+] 08:31:28 - Saving file with size increase of 33.12% (+1735 chars) and target_obf_score of 8.66 to '../samples/obf_best_model3.ps1'\n",
      "[+] 08:32:39 - Saving file with size increase of 31.27% (+1638 chars) and target_obf_score of 29.12 to '../samples/obf_best_model3.ps1'\n",
      "[+] 08:33:30 - Saving file with size increase of 29.61% (+1551 chars) and target_obf_score of 1.80 to '../samples/obf_best_model3.ps1'\n",
      "[+] 08:36:08 - Saving file with size increase of 23.06% (+1208 chars) and target_obf_score of 35.24 to '../samples/obf_best_model3.ps1'\n",
      "\n",
      "[*] Optimization completed in: 1800.0888786315918 seconds\n",
      "[*] Total trials: 5250\n",
      "\n"
     ]
    }
   ],
   "source": [
    "# run for 30 minutes\n",
    "timeout = 60*30\n",
    "\n",
    "#study = optuna.create_study(study_name=\"model3\", sampler=optuna.samplers.TPESampler(multivariate=True), directions=[\"minimize\", \"minimize\"])\n",
    "#study = optuna.create_study(study_name=\"model3\", sampler=optuna.samplers.MOTPESampler(), directions=[\"minimize\", \"minimize\"])\n",
    "study = optuna.create_study(study_name=\"model3\", sampler=optuna.samplers.NSGAIISampler(), directions=[\"minimize\", \"minimize\"])\n",
    "\n",
    "start_time = time.time()\n",
    "print(f\"\\n[*] Starting optimization at {datetime.datetime.now().strftime('%H:%M:%S')} with {timeout} second timeout\\n\")\n",
    "study.optimize(objective, timeout=timeout)\n",
    "\n",
    "print(f\"\\n[*] Optimization completed in: {time.time() - start_time} seconds\")\n",
    "print(f\"[*] Total trials: {len(study.trials)}\\n\")"
   ]
  },
  {
   "cell_type": "markdown",
   "id": "c47235ba-7246-49a6-b08f-754197497f8c",
   "metadata": {},
   "source": [
    "So our best optimization run ended up adding 1208 characters for an increase of 23.06% in size over the original script, and resulted in an obfuscation score of 35.24.\n",
    "\n",
    "If we want to see the parameters for the best optimized run:"
   ]
  },
  {
   "cell_type": "code",
   "execution_count": 52,
   "id": "78e71ac2-7fe7-4279-bcbc-1aea7dc6ddc0",
   "metadata": {},
   "outputs": [
    {
     "name": "stdout",
     "output_type": "stream",
     "text": [
      "Best trial\n",
      "    % increase  : 23.062237495227187\n",
      "    obf_score   : 35.24274528026581\n",
      "{  'cmdlet_dashcount': 19,\n",
      "   'cmdlet_dashcount_newline': 19,\n",
      "   'cmdlet_len': 6,\n",
      "   'cmdlet_len_newline': 6,\n",
      "   'cmdlet_num': 1,\n",
      "   'cmdlet_num_newline': 1,\n",
      "   'str_num': 1,\n",
      "   'str_num_newline': 1,\n",
      "   'str_str_len': 11,\n",
      "   'str_str_len_newline': 13,\n",
      "   'str_var_len': 7,\n",
      "   'str_var_len_newline': 8,\n",
      "   'variable_member_len': 7,\n",
      "   'variable_member_len_newline': 14,\n",
      "   'variable_num': 21,\n",
      "   'variable_num_newline': 28,\n",
      "   'variable_var_len': 7,\n",
      "   'variable_var_len_newline': 7}\n"
     ]
    }
   ],
   "source": [
    "# get the minimum size increase for the best trial\n",
    "best_trial = sorted([x.values for x in study.best_trials if x.values[1] < 50])\n",
    "min_inc = best_trial[0][0]\n",
    "obf_score = best_trial[0][1] * 1000\n",
    "\n",
    "print(\"Best trial\")\n",
    "print(f\"    % increase  : {min_inc}\")\n",
    "print(f\"    obf_score   : {obf_score}\")\n",
    "pprint.PrettyPrinter(indent=3).pprint([x.params for x in study.best_trials if x.values[0] == min_inc][0])"
   ]
  },
  {
   "cell_type": "markdown",
   "id": "55fa9950-dbe1-4ec7-984a-acb69587b5bf",
   "metadata": {},
   "source": [
    "**How did this perform against all models?**"
   ]
  },
  {
   "cell_type": "code",
   "execution_count": 53,
   "id": "f3805328-d415-44cb-8398-c52abce52a4f",
   "metadata": {},
   "outputs": [
    {
     "name": "stdout",
     "output_type": "stream",
     "text": [
      "obf_probability for model 1: 0.307\n",
      "obf_probability for model 2: 99.512\n",
      "obf_probability for model 3: 35.243\n"
     ]
    }
   ],
   "source": [
    "obf_target_ast = get_script_df(\"../samples/obf_best_model3.ps1\").values\n",
    "\n",
    "for i in range(1, 4):\n",
    "    obf_score = target_model_predict(i, obf_target_ast, probabilities=True)[0]*100\n",
    "    print(f\"obf_probability for model {i}: {'{:.3f}'.format(obf_score)}\")"
   ]
  },
  {
   "cell_type": "markdown",
   "id": "d18b6b94-877b-4a35-870c-f9397cde1f36",
   "metadata": {},
   "source": [
    "So while this sample was successful against our target model 3 and 1, it wasn't against model 2. This is likely because we:\n",
    "\n",
    "1) Built our feature transforms from the local surrogate model tuned for model 3's probabilities \n",
    "2) Specifically optimized towards the decision boundary for model 3\n",
    "3) Model 2 is a gradient boosted tree ensemble\n",
    "\n",
    "We would need to repeat the same process for the other models to get similar results."
   ]
  },
  {
   "cell_type": "code",
   "execution_count": 54,
   "id": "abf33d88-4e77-4677-a350-9c84c971f230",
   "metadata": {},
   "outputs": [
    {
     "data": {
      "application/vnd.plotly.v1+json": {
       "config": {
        "plotlyServerURL": "https://plot.ly"
       },
       "data": [
        {
         "cliponaxis": false,
         "hovertemplate": [
          "str_var_len (IntUniformDistribution): 0.0010109042203855808<extra></extra>",
          "variable_var_len (IntUniformDistribution): 0.0014701724394906486<extra></extra>",
          "str_var_len_newline (IntUniformDistribution): 0.0023331237846355725<extra></extra>",
          "variable_var_len_newline (IntUniformDistribution): 0.005391761074059778<extra></extra>",
          "cmdlet_num (IntUniformDistribution): 0.00664006105524339<extra></extra>",
          "str_str_len_newline (IntUniformDistribution): 0.00791735045662852<extra></extra>",
          "str_str_len (IntUniformDistribution): 0.009426554727556125<extra></extra>",
          "cmdlet_len (IntUniformDistribution): 0.010122602378715217<extra></extra>",
          "cmdlet_num_newline (IntUniformDistribution): 0.01313091020200743<extra></extra>",
          "variable_member_len_newline (IntUniformDistribution): 0.018033336396660896<extra></extra>",
          "str_num (IntUniformDistribution): 0.02946956328038148<extra></extra>",
          "cmdlet_len_newline (IntUniformDistribution): 0.04329329364040258<extra></extra>",
          "variable_member_len (IntUniformDistribution): 0.04559528159980036<extra></extra>",
          "cmdlet_dashcount_newline (IntUniformDistribution): 0.05617319863582229<extra></extra>",
          "str_num_newline (IntUniformDistribution): 0.0591937898417983<extra></extra>",
          "cmdlet_dashcount (IntUniformDistribution): 0.10191143574249832<extra></extra>",
          "variable_num_newline (IntUniformDistribution): 0.23755226671979038<extra></extra>",
          "variable_num (IntUniformDistribution): 0.3513343938041232<extra></extra>"
         ],
         "marker": {
          "color": "rgb(66,146,198)"
         },
         "orientation": "h",
         "text": [
          "0.0010109042203855808",
          "0.0014701724394906486",
          "0.0023331237846355725",
          "0.005391761074059778",
          "0.00664006105524339",
          "0.00791735045662852",
          "0.009426554727556125",
          "0.010122602378715217",
          "0.01313091020200743",
          "0.018033336396660896",
          "0.02946956328038148",
          "0.04329329364040258",
          "0.04559528159980036",
          "0.05617319863582229",
          "0.0591937898417983",
          "0.10191143574249832",
          "0.23755226671979038",
          "0.3513343938041232"
         ],
         "textposition": "outside",
         "texttemplate": "%{text:.2f}",
         "type": "bar",
         "x": [
          0.0010109042203855808,
          0.0014701724394906486,
          0.0023331237846355725,
          0.005391761074059778,
          0.00664006105524339,
          0.00791735045662852,
          0.009426554727556125,
          0.010122602378715217,
          0.01313091020200743,
          0.018033336396660896,
          0.02946956328038148,
          0.04329329364040258,
          0.04559528159980036,
          0.05617319863582229,
          0.0591937898417983,
          0.10191143574249832,
          0.23755226671979038,
          0.3513343938041232
         ],
         "y": [
          "str_var_len",
          "variable_var_len",
          "str_var_len_newline",
          "variable_var_len_newline",
          "cmdlet_num",
          "str_str_len_newline",
          "str_str_len",
          "cmdlet_len",
          "cmdlet_num_newline",
          "variable_member_len_newline",
          "str_num",
          "cmdlet_len_newline",
          "variable_member_len",
          "cmdlet_dashcount_newline",
          "str_num_newline",
          "cmdlet_dashcount",
          "variable_num_newline",
          "variable_num"
         ]
        }
       ],
       "layout": {
        "autosize": true,
        "showlegend": false,
        "template": {
         "data": {
          "bar": [
           {
            "error_x": {
             "color": "#2a3f5f"
            },
            "error_y": {
             "color": "#2a3f5f"
            },
            "marker": {
             "line": {
              "color": "#E5ECF6",
              "width": 0.5
             },
             "pattern": {
              "fillmode": "overlay",
              "size": 10,
              "solidity": 0.2
             }
            },
            "type": "bar"
           }
          ],
          "barpolar": [
           {
            "marker": {
             "line": {
              "color": "#E5ECF6",
              "width": 0.5
             },
             "pattern": {
              "fillmode": "overlay",
              "size": 10,
              "solidity": 0.2
             }
            },
            "type": "barpolar"
           }
          ],
          "carpet": [
           {
            "aaxis": {
             "endlinecolor": "#2a3f5f",
             "gridcolor": "white",
             "linecolor": "white",
             "minorgridcolor": "white",
             "startlinecolor": "#2a3f5f"
            },
            "baxis": {
             "endlinecolor": "#2a3f5f",
             "gridcolor": "white",
             "linecolor": "white",
             "minorgridcolor": "white",
             "startlinecolor": "#2a3f5f"
            },
            "type": "carpet"
           }
          ],
          "choropleth": [
           {
            "colorbar": {
             "outlinewidth": 0,
             "ticks": ""
            },
            "type": "choropleth"
           }
          ],
          "contour": [
           {
            "colorbar": {
             "outlinewidth": 0,
             "ticks": ""
            },
            "colorscale": [
             [
              0,
              "#0d0887"
             ],
             [
              0.1111111111111111,
              "#46039f"
             ],
             [
              0.2222222222222222,
              "#7201a8"
             ],
             [
              0.3333333333333333,
              "#9c179e"
             ],
             [
              0.4444444444444444,
              "#bd3786"
             ],
             [
              0.5555555555555556,
              "#d8576b"
             ],
             [
              0.6666666666666666,
              "#ed7953"
             ],
             [
              0.7777777777777778,
              "#fb9f3a"
             ],
             [
              0.8888888888888888,
              "#fdca26"
             ],
             [
              1,
              "#f0f921"
             ]
            ],
            "type": "contour"
           }
          ],
          "contourcarpet": [
           {
            "colorbar": {
             "outlinewidth": 0,
             "ticks": ""
            },
            "type": "contourcarpet"
           }
          ],
          "heatmap": [
           {
            "colorbar": {
             "outlinewidth": 0,
             "ticks": ""
            },
            "colorscale": [
             [
              0,
              "#0d0887"
             ],
             [
              0.1111111111111111,
              "#46039f"
             ],
             [
              0.2222222222222222,
              "#7201a8"
             ],
             [
              0.3333333333333333,
              "#9c179e"
             ],
             [
              0.4444444444444444,
              "#bd3786"
             ],
             [
              0.5555555555555556,
              "#d8576b"
             ],
             [
              0.6666666666666666,
              "#ed7953"
             ],
             [
              0.7777777777777778,
              "#fb9f3a"
             ],
             [
              0.8888888888888888,
              "#fdca26"
             ],
             [
              1,
              "#f0f921"
             ]
            ],
            "type": "heatmap"
           }
          ],
          "heatmapgl": [
           {
            "colorbar": {
             "outlinewidth": 0,
             "ticks": ""
            },
            "colorscale": [
             [
              0,
              "#0d0887"
             ],
             [
              0.1111111111111111,
              "#46039f"
             ],
             [
              0.2222222222222222,
              "#7201a8"
             ],
             [
              0.3333333333333333,
              "#9c179e"
             ],
             [
              0.4444444444444444,
              "#bd3786"
             ],
             [
              0.5555555555555556,
              "#d8576b"
             ],
             [
              0.6666666666666666,
              "#ed7953"
             ],
             [
              0.7777777777777778,
              "#fb9f3a"
             ],
             [
              0.8888888888888888,
              "#fdca26"
             ],
             [
              1,
              "#f0f921"
             ]
            ],
            "type": "heatmapgl"
           }
          ],
          "histogram": [
           {
            "marker": {
             "pattern": {
              "fillmode": "overlay",
              "size": 10,
              "solidity": 0.2
             }
            },
            "type": "histogram"
           }
          ],
          "histogram2d": [
           {
            "colorbar": {
             "outlinewidth": 0,
             "ticks": ""
            },
            "colorscale": [
             [
              0,
              "#0d0887"
             ],
             [
              0.1111111111111111,
              "#46039f"
             ],
             [
              0.2222222222222222,
              "#7201a8"
             ],
             [
              0.3333333333333333,
              "#9c179e"
             ],
             [
              0.4444444444444444,
              "#bd3786"
             ],
             [
              0.5555555555555556,
              "#d8576b"
             ],
             [
              0.6666666666666666,
              "#ed7953"
             ],
             [
              0.7777777777777778,
              "#fb9f3a"
             ],
             [
              0.8888888888888888,
              "#fdca26"
             ],
             [
              1,
              "#f0f921"
             ]
            ],
            "type": "histogram2d"
           }
          ],
          "histogram2dcontour": [
           {
            "colorbar": {
             "outlinewidth": 0,
             "ticks": ""
            },
            "colorscale": [
             [
              0,
              "#0d0887"
             ],
             [
              0.1111111111111111,
              "#46039f"
             ],
             [
              0.2222222222222222,
              "#7201a8"
             ],
             [
              0.3333333333333333,
              "#9c179e"
             ],
             [
              0.4444444444444444,
              "#bd3786"
             ],
             [
              0.5555555555555556,
              "#d8576b"
             ],
             [
              0.6666666666666666,
              "#ed7953"
             ],
             [
              0.7777777777777778,
              "#fb9f3a"
             ],
             [
              0.8888888888888888,
              "#fdca26"
             ],
             [
              1,
              "#f0f921"
             ]
            ],
            "type": "histogram2dcontour"
           }
          ],
          "mesh3d": [
           {
            "colorbar": {
             "outlinewidth": 0,
             "ticks": ""
            },
            "type": "mesh3d"
           }
          ],
          "parcoords": [
           {
            "line": {
             "colorbar": {
              "outlinewidth": 0,
              "ticks": ""
             }
            },
            "type": "parcoords"
           }
          ],
          "pie": [
           {
            "automargin": true,
            "type": "pie"
           }
          ],
          "scatter": [
           {
            "marker": {
             "colorbar": {
              "outlinewidth": 0,
              "ticks": ""
             }
            },
            "type": "scatter"
           }
          ],
          "scatter3d": [
           {
            "line": {
             "colorbar": {
              "outlinewidth": 0,
              "ticks": ""
             }
            },
            "marker": {
             "colorbar": {
              "outlinewidth": 0,
              "ticks": ""
             }
            },
            "type": "scatter3d"
           }
          ],
          "scattercarpet": [
           {
            "marker": {
             "colorbar": {
              "outlinewidth": 0,
              "ticks": ""
             }
            },
            "type": "scattercarpet"
           }
          ],
          "scattergeo": [
           {
            "marker": {
             "colorbar": {
              "outlinewidth": 0,
              "ticks": ""
             }
            },
            "type": "scattergeo"
           }
          ],
          "scattergl": [
           {
            "marker": {
             "colorbar": {
              "outlinewidth": 0,
              "ticks": ""
             }
            },
            "type": "scattergl"
           }
          ],
          "scattermapbox": [
           {
            "marker": {
             "colorbar": {
              "outlinewidth": 0,
              "ticks": ""
             }
            },
            "type": "scattermapbox"
           }
          ],
          "scatterpolar": [
           {
            "marker": {
             "colorbar": {
              "outlinewidth": 0,
              "ticks": ""
             }
            },
            "type": "scatterpolar"
           }
          ],
          "scatterpolargl": [
           {
            "marker": {
             "colorbar": {
              "outlinewidth": 0,
              "ticks": ""
             }
            },
            "type": "scatterpolargl"
           }
          ],
          "scatterternary": [
           {
            "marker": {
             "colorbar": {
              "outlinewidth": 0,
              "ticks": ""
             }
            },
            "type": "scatterternary"
           }
          ],
          "surface": [
           {
            "colorbar": {
             "outlinewidth": 0,
             "ticks": ""
            },
            "colorscale": [
             [
              0,
              "#0d0887"
             ],
             [
              0.1111111111111111,
              "#46039f"
             ],
             [
              0.2222222222222222,
              "#7201a8"
             ],
             [
              0.3333333333333333,
              "#9c179e"
             ],
             [
              0.4444444444444444,
              "#bd3786"
             ],
             [
              0.5555555555555556,
              "#d8576b"
             ],
             [
              0.6666666666666666,
              "#ed7953"
             ],
             [
              0.7777777777777778,
              "#fb9f3a"
             ],
             [
              0.8888888888888888,
              "#fdca26"
             ],
             [
              1,
              "#f0f921"
             ]
            ],
            "type": "surface"
           }
          ],
          "table": [
           {
            "cells": {
             "fill": {
              "color": "#EBF0F8"
             },
             "line": {
              "color": "white"
             }
            },
            "header": {
             "fill": {
              "color": "#C8D4E3"
             },
             "line": {
              "color": "white"
             }
            },
            "type": "table"
           }
          ]
         },
         "layout": {
          "annotationdefaults": {
           "arrowcolor": "#2a3f5f",
           "arrowhead": 0,
           "arrowwidth": 1
          },
          "autotypenumbers": "strict",
          "coloraxis": {
           "colorbar": {
            "outlinewidth": 0,
            "ticks": ""
           }
          },
          "colorscale": {
           "diverging": [
            [
             0,
             "#8e0152"
            ],
            [
             0.1,
             "#c51b7d"
            ],
            [
             0.2,
             "#de77ae"
            ],
            [
             0.3,
             "#f1b6da"
            ],
            [
             0.4,
             "#fde0ef"
            ],
            [
             0.5,
             "#f7f7f7"
            ],
            [
             0.6,
             "#e6f5d0"
            ],
            [
             0.7,
             "#b8e186"
            ],
            [
             0.8,
             "#7fbc41"
            ],
            [
             0.9,
             "#4d9221"
            ],
            [
             1,
             "#276419"
            ]
           ],
           "sequential": [
            [
             0,
             "#0d0887"
            ],
            [
             0.1111111111111111,
             "#46039f"
            ],
            [
             0.2222222222222222,
             "#7201a8"
            ],
            [
             0.3333333333333333,
             "#9c179e"
            ],
            [
             0.4444444444444444,
             "#bd3786"
            ],
            [
             0.5555555555555556,
             "#d8576b"
            ],
            [
             0.6666666666666666,
             "#ed7953"
            ],
            [
             0.7777777777777778,
             "#fb9f3a"
            ],
            [
             0.8888888888888888,
             "#fdca26"
            ],
            [
             1,
             "#f0f921"
            ]
           ],
           "sequentialminus": [
            [
             0,
             "#0d0887"
            ],
            [
             0.1111111111111111,
             "#46039f"
            ],
            [
             0.2222222222222222,
             "#7201a8"
            ],
            [
             0.3333333333333333,
             "#9c179e"
            ],
            [
             0.4444444444444444,
             "#bd3786"
            ],
            [
             0.5555555555555556,
             "#d8576b"
            ],
            [
             0.6666666666666666,
             "#ed7953"
            ],
            [
             0.7777777777777778,
             "#fb9f3a"
            ],
            [
             0.8888888888888888,
             "#fdca26"
            ],
            [
             1,
             "#f0f921"
            ]
           ]
          },
          "colorway": [
           "#636efa",
           "#EF553B",
           "#00cc96",
           "#ab63fa",
           "#FFA15A",
           "#19d3f3",
           "#FF6692",
           "#B6E880",
           "#FF97FF",
           "#FECB52"
          ],
          "font": {
           "color": "#2a3f5f"
          },
          "geo": {
           "bgcolor": "white",
           "lakecolor": "white",
           "landcolor": "#E5ECF6",
           "showlakes": true,
           "showland": true,
           "subunitcolor": "white"
          },
          "hoverlabel": {
           "align": "left"
          },
          "hovermode": "closest",
          "mapbox": {
           "style": "light"
          },
          "paper_bgcolor": "white",
          "plot_bgcolor": "#E5ECF6",
          "polar": {
           "angularaxis": {
            "gridcolor": "white",
            "linecolor": "white",
            "ticks": ""
           },
           "bgcolor": "#E5ECF6",
           "radialaxis": {
            "gridcolor": "white",
            "linecolor": "white",
            "ticks": ""
           }
          },
          "scene": {
           "xaxis": {
            "backgroundcolor": "#E5ECF6",
            "gridcolor": "white",
            "gridwidth": 2,
            "linecolor": "white",
            "showbackground": true,
            "ticks": "",
            "zerolinecolor": "white"
           },
           "yaxis": {
            "backgroundcolor": "#E5ECF6",
            "gridcolor": "white",
            "gridwidth": 2,
            "linecolor": "white",
            "showbackground": true,
            "ticks": "",
            "zerolinecolor": "white"
           },
           "zaxis": {
            "backgroundcolor": "#E5ECF6",
            "gridcolor": "white",
            "gridwidth": 2,
            "linecolor": "white",
            "showbackground": true,
            "ticks": "",
            "zerolinecolor": "white"
           }
          },
          "shapedefaults": {
           "line": {
            "color": "#2a3f5f"
           }
          },
          "ternary": {
           "aaxis": {
            "gridcolor": "white",
            "linecolor": "white",
            "ticks": ""
           },
           "baxis": {
            "gridcolor": "white",
            "linecolor": "white",
            "ticks": ""
           },
           "bgcolor": "#E5ECF6",
           "caxis": {
            "gridcolor": "white",
            "linecolor": "white",
            "ticks": ""
           }
          },
          "title": {
           "x": 0.05
          },
          "xaxis": {
           "automargin": true,
           "gridcolor": "white",
           "linecolor": "white",
           "ticks": "",
           "title": {
            "standoff": 15
           },
           "zerolinecolor": "white",
           "zerolinewidth": 2
          },
          "yaxis": {
           "automargin": true,
           "gridcolor": "white",
           "linecolor": "white",
           "ticks": "",
           "title": {
            "standoff": 15
           },
           "zerolinecolor": "white",
           "zerolinewidth": 2
          }
         }
        },
        "title": {
         "text": "Hyperparameter Importances"
        },
        "xaxis": {
         "autorange": true,
         "range": [
          0,
          0.36982567768855074
         ],
         "title": {
          "text": "Importance for Minimizing Obfuscation Score"
         },
         "type": "linear"
        },
        "yaxis": {
         "autorange": true,
         "range": [
          -0.5,
          17.5
         ],
         "title": {
          "text": "Hyperparameter"
         },
         "type": "category"
        }
       }
      },
      "image/png": "[encoded data removed]",
      "text/html": [
       "<div>                            <div id=\"3a242d8e-5efa-47d7-a513-fc7d15f90b87\" class=\"plotly-graph-div\" style=\"height:525px; width:100%;\"></div>            <script type=\"text/javascript\">                require([\"plotly\"], function(Plotly) {                    window.PLOTLYENV=window.PLOTLYENV || {};                                    if (document.getElementById(\"3a242d8e-5efa-47d7-a513-fc7d15f90b87\")) {                    Plotly.newPlot(                        \"3a242d8e-5efa-47d7-a513-fc7d15f90b87\",                        [{\"cliponaxis\":false,\"hovertemplate\":[\"str_var_len (IntUniformDistribution): 0.0010109042203855808<extra></extra>\",\"variable_var_len (IntUniformDistribution): 0.0014701724394906486<extra></extra>\",\"str_var_len_newline (IntUniformDistribution): 0.0023331237846355725<extra></extra>\",\"variable_var_len_newline (IntUniformDistribution): 0.005391761074059778<extra></extra>\",\"cmdlet_num (IntUniformDistribution): 0.00664006105524339<extra></extra>\",\"str_str_len_newline (IntUniformDistribution): 0.00791735045662852<extra></extra>\",\"str_str_len (IntUniformDistribution): 0.009426554727556125<extra></extra>\",\"cmdlet_len (IntUniformDistribution): 0.010122602378715217<extra></extra>\",\"cmdlet_num_newline (IntUniformDistribution): 0.01313091020200743<extra></extra>\",\"variable_member_len_newline (IntUniformDistribution): 0.018033336396660896<extra></extra>\",\"str_num (IntUniformDistribution): 0.02946956328038148<extra></extra>\",\"cmdlet_len_newline (IntUniformDistribution): 0.04329329364040258<extra></extra>\",\"variable_member_len (IntUniformDistribution): 0.04559528159980036<extra></extra>\",\"cmdlet_dashcount_newline (IntUniformDistribution): 0.05617319863582229<extra></extra>\",\"str_num_newline (IntUniformDistribution): 0.0591937898417983<extra></extra>\",\"cmdlet_dashcount (IntUniformDistribution): 0.10191143574249832<extra></extra>\",\"variable_num_newline (IntUniformDistribution): 0.23755226671979038<extra></extra>\",\"variable_num (IntUniformDistribution): 0.3513343938041232<extra></extra>\"],\"marker\":{\"color\":\"rgb(66,146,198)\"},\"orientation\":\"h\",\"text\":[\"0.0010109042203855808\",\"0.0014701724394906486\",\"0.0023331237846355725\",\"0.005391761074059778\",\"0.00664006105524339\",\"0.00791735045662852\",\"0.009426554727556125\",\"0.010122602378715217\",\"0.01313091020200743\",\"0.018033336396660896\",\"0.02946956328038148\",\"0.04329329364040258\",\"0.04559528159980036\",\"0.05617319863582229\",\"0.0591937898417983\",\"0.10191143574249832\",\"0.23755226671979038\",\"0.3513343938041232\"],\"textposition\":\"outside\",\"texttemplate\":\"%{text:.2f}\",\"x\":[0.0010109042203855808,0.0014701724394906486,0.0023331237846355725,0.005391761074059778,0.00664006105524339,0.00791735045662852,0.009426554727556125,0.010122602378715217,0.01313091020200743,0.018033336396660896,0.02946956328038148,0.04329329364040258,0.04559528159980036,0.05617319863582229,0.0591937898417983,0.10191143574249832,0.23755226671979038,0.3513343938041232],\"y\":[\"str_var_len\",\"variable_var_len\",\"str_var_len_newline\",\"variable_var_len_newline\",\"cmdlet_num\",\"str_str_len_newline\",\"str_str_len\",\"cmdlet_len\",\"cmdlet_num_newline\",\"variable_member_len_newline\",\"str_num\",\"cmdlet_len_newline\",\"variable_member_len\",\"cmdlet_dashcount_newline\",\"str_num_newline\",\"cmdlet_dashcount\",\"variable_num_newline\",\"variable_num\"],\"type\":\"bar\"}],                        {\"showlegend\":false,\"title\":{\"text\":\"Hyperparameter Importances\"},\"xaxis\":{\"title\":{\"text\":\"Importance for Minimizing Obfuscation Score\"}},\"yaxis\":{\"title\":{\"text\":\"Hyperparameter\"}},\"template\":{\"data\":{\"bar\":[{\"error_x\":{\"color\":\"#2a3f5f\"},\"error_y\":{\"color\":\"#2a3f5f\"},\"marker\":{\"line\":{\"color\":\"#E5ECF6\",\"width\":0.5},\"pattern\":{\"fillmode\":\"overlay\",\"size\":10,\"solidity\":0.2}},\"type\":\"bar\"}],\"barpolar\":[{\"marker\":{\"line\":{\"color\":\"#E5ECF6\",\"width\":0.5},\"pattern\":{\"fillmode\":\"overlay\",\"size\":10,\"solidity\":0.2}},\"type\":\"barpolar\"}],\"carpet\":[{\"aaxis\":{\"endlinecolor\":\"#2a3f5f\",\"gridcolor\":\"white\",\"linecolor\":\"white\",\"minorgridcolor\":\"white\",\"startlinecolor\":\"#2a3f5f\"},\"baxis\":{\"endlinecolor\":\"#2a3f5f\",\"gridcolor\":\"white\",\"linecolor\":\"white\",\"minorgridcolor\":\"white\",\"startlinecolor\":\"#2a3f5f\"},\"type\":\"carpet\"}],\"choropleth\":[{\"colorbar\":{\"outlinewidth\":0,\"ticks\":\"\"},\"type\":\"choropleth\"}],\"contour\":[{\"colorbar\":{\"outlinewidth\":0,\"ticks\":\"\"},\"colorscale\":[[0.0,\"#0d0887\"],[0.1111111111111111,\"#46039f\"],[0.2222222222222222,\"#7201a8\"],[0.3333333333333333,\"#9c179e\"],[0.4444444444444444,\"#bd3786\"],[0.5555555555555556,\"#d8576b\"],[0.6666666666666666,\"#ed7953\"],[0.7777777777777778,\"#fb9f3a\"],[0.8888888888888888,\"#fdca26\"],[1.0,\"#f0f921\"]],\"type\":\"contour\"}],\"contourcarpet\":[{\"colorbar\":{\"outlinewidth\":0,\"ticks\":\"\"},\"type\":\"contourcarpet\"}],\"heatmap\":[{\"colorbar\":{\"outlinewidth\":0,\"ticks\":\"\"},\"colorscale\":[[0.0,\"#0d0887\"],[0.1111111111111111,\"#46039f\"],[0.2222222222222222,\"#7201a8\"],[0.3333333333333333,\"#9c179e\"],[0.4444444444444444,\"#bd3786\"],[0.5555555555555556,\"#d8576b\"],[0.6666666666666666,\"#ed7953\"],[0.7777777777777778,\"#fb9f3a\"],[0.8888888888888888,\"#fdca26\"],[1.0,\"#f0f921\"]],\"type\":\"heatmap\"}],\"heatmapgl\":[{\"colorbar\":{\"outlinewidth\":0,\"ticks\":\"\"},\"colorscale\":[[0.0,\"#0d0887\"],[0.1111111111111111,\"#46039f\"],[0.2222222222222222,\"#7201a8\"],[0.3333333333333333,\"#9c179e\"],[0.4444444444444444,\"#bd3786\"],[0.5555555555555556,\"#d8576b\"],[0.6666666666666666,\"#ed7953\"],[0.7777777777777778,\"#fb9f3a\"],[0.8888888888888888,\"#fdca26\"],[1.0,\"#f0f921\"]],\"type\":\"heatmapgl\"}],\"histogram\":[{\"marker\":{\"pattern\":{\"fillmode\":\"overlay\",\"size\":10,\"solidity\":0.2}},\"type\":\"histogram\"}],\"histogram2d\":[{\"colorbar\":{\"outlinewidth\":0,\"ticks\":\"\"},\"colorscale\":[[0.0,\"#0d0887\"],[0.1111111111111111,\"#46039f\"],[0.2222222222222222,\"#7201a8\"],[0.3333333333333333,\"#9c179e\"],[0.4444444444444444,\"#bd3786\"],[0.5555555555555556,\"#d8576b\"],[0.6666666666666666,\"#ed7953\"],[0.7777777777777778,\"#fb9f3a\"],[0.8888888888888888,\"#fdca26\"],[1.0,\"#f0f921\"]],\"type\":\"histogram2d\"}],\"histogram2dcontour\":[{\"colorbar\":{\"outlinewidth\":0,\"ticks\":\"\"},\"colorscale\":[[0.0,\"#0d0887\"],[0.1111111111111111,\"#46039f\"],[0.2222222222222222,\"#7201a8\"],[0.3333333333333333,\"#9c179e\"],[0.4444444444444444,\"#bd3786\"],[0.5555555555555556,\"#d8576b\"],[0.6666666666666666,\"#ed7953\"],[0.7777777777777778,\"#fb9f3a\"],[0.8888888888888888,\"#fdca26\"],[1.0,\"#f0f921\"]],\"type\":\"histogram2dcontour\"}],\"mesh3d\":[{\"colorbar\":{\"outlinewidth\":0,\"ticks\":\"\"},\"type\":\"mesh3d\"}],\"parcoords\":[{\"line\":{\"colorbar\":{\"outlinewidth\":0,\"ticks\":\"\"}},\"type\":\"parcoords\"}],\"pie\":[{\"automargin\":true,\"type\":\"pie\"}],\"scatter\":[{\"marker\":{\"colorbar\":{\"outlinewidth\":0,\"ticks\":\"\"}},\"type\":\"scatter\"}],\"scatter3d\":[{\"line\":{\"colorbar\":{\"outlinewidth\":0,\"ticks\":\"\"}},\"marker\":{\"colorbar\":{\"outlinewidth\":0,\"ticks\":\"\"}},\"type\":\"scatter3d\"}],\"scattercarpet\":[{\"marker\":{\"colorbar\":{\"outlinewidth\":0,\"ticks\":\"\"}},\"type\":\"scattercarpet\"}],\"scattergeo\":[{\"marker\":{\"colorbar\":{\"outlinewidth\":0,\"ticks\":\"\"}},\"type\":\"scattergeo\"}],\"scattergl\":[{\"marker\":{\"colorbar\":{\"outlinewidth\":0,\"ticks\":\"\"}},\"type\":\"scattergl\"}],\"scattermapbox\":[{\"marker\":{\"colorbar\":{\"outlinewidth\":0,\"ticks\":\"\"}},\"type\":\"scattermapbox\"}],\"scatterpolar\":[{\"marker\":{\"colorbar\":{\"outlinewidth\":0,\"ticks\":\"\"}},\"type\":\"scatterpolar\"}],\"scatterpolargl\":[{\"marker\":{\"colorbar\":{\"outlinewidth\":0,\"ticks\":\"\"}},\"type\":\"scatterpolargl\"}],\"scatterternary\":[{\"marker\":{\"colorbar\":{\"outlinewidth\":0,\"ticks\":\"\"}},\"type\":\"scatterternary\"}],\"surface\":[{\"colorbar\":{\"outlinewidth\":0,\"ticks\":\"\"},\"colorscale\":[[0.0,\"#0d0887\"],[0.1111111111111111,\"#46039f\"],[0.2222222222222222,\"#7201a8\"],[0.3333333333333333,\"#9c179e\"],[0.4444444444444444,\"#bd3786\"],[0.5555555555555556,\"#d8576b\"],[0.6666666666666666,\"#ed7953\"],[0.7777777777777778,\"#fb9f3a\"],[0.8888888888888888,\"#fdca26\"],[1.0,\"#f0f921\"]],\"type\":\"surface\"}],\"table\":[{\"cells\":{\"fill\":{\"color\":\"#EBF0F8\"},\"line\":{\"color\":\"white\"}},\"header\":{\"fill\":{\"color\":\"#C8D4E3\"},\"line\":{\"color\":\"white\"}},\"type\":\"table\"}]},\"layout\":{\"annotationdefaults\":{\"arrowcolor\":\"#2a3f5f\",\"arrowhead\":0,\"arrowwidth\":1},\"autotypenumbers\":\"strict\",\"coloraxis\":{\"colorbar\":{\"outlinewidth\":0,\"ticks\":\"\"}},\"colorscale\":{\"diverging\":[[0,\"#8e0152\"],[0.1,\"#c51b7d\"],[0.2,\"#de77ae\"],[0.3,\"#f1b6da\"],[0.4,\"#fde0ef\"],[0.5,\"#f7f7f7\"],[0.6,\"#e6f5d0\"],[0.7,\"#b8e186\"],[0.8,\"#7fbc41\"],[0.9,\"#4d9221\"],[1,\"#276419\"]],\"sequential\":[[0.0,\"#0d0887\"],[0.1111111111111111,\"#46039f\"],[0.2222222222222222,\"#7201a8\"],[0.3333333333333333,\"#9c179e\"],[0.4444444444444444,\"#bd3786\"],[0.5555555555555556,\"#d8576b\"],[0.6666666666666666,\"#ed7953\"],[0.7777777777777778,\"#fb9f3a\"],[0.8888888888888888,\"#fdca26\"],[1.0,\"#f0f921\"]],\"sequentialminus\":[[0.0,\"#0d0887\"],[0.1111111111111111,\"#46039f\"],[0.2222222222222222,\"#7201a8\"],[0.3333333333333333,\"#9c179e\"],[0.4444444444444444,\"#bd3786\"],[0.5555555555555556,\"#d8576b\"],[0.6666666666666666,\"#ed7953\"],[0.7777777777777778,\"#fb9f3a\"],[0.8888888888888888,\"#fdca26\"],[1.0,\"#f0f921\"]]},\"colorway\":[\"#636efa\",\"#EF553B\",\"#00cc96\",\"#ab63fa\",\"#FFA15A\",\"#19d3f3\",\"#FF6692\",\"#B6E880\",\"#FF97FF\",\"#FECB52\"],\"font\":{\"color\":\"#2a3f5f\"},\"geo\":{\"bgcolor\":\"white\",\"lakecolor\":\"white\",\"landcolor\":\"#E5ECF6\",\"showlakes\":true,\"showland\":true,\"subunitcolor\":\"white\"},\"hoverlabel\":{\"align\":\"left\"},\"hovermode\":\"closest\",\"mapbox\":{\"style\":\"light\"},\"paper_bgcolor\":\"white\",\"plot_bgcolor\":\"#E5ECF6\",\"polar\":{\"angularaxis\":{\"gridcolor\":\"white\",\"linecolor\":\"white\",\"ticks\":\"\"},\"bgcolor\":\"#E5ECF6\",\"radialaxis\":{\"gridcolor\":\"white\",\"linecolor\":\"white\",\"ticks\":\"\"}},\"scene\":{\"xaxis\":{\"backgroundcolor\":\"#E5ECF6\",\"gridcolor\":\"white\",\"gridwidth\":2,\"linecolor\":\"white\",\"showbackground\":true,\"ticks\":\"\",\"zerolinecolor\":\"white\"},\"yaxis\":{\"backgroundcolor\":\"#E5ECF6\",\"gridcolor\":\"white\",\"gridwidth\":2,\"linecolor\":\"white\",\"showbackground\":true,\"ticks\":\"\",\"zerolinecolor\":\"white\"},\"zaxis\":{\"backgroundcolor\":\"#E5ECF6\",\"gridcolor\":\"white\",\"gridwidth\":2,\"linecolor\":\"white\",\"showbackground\":true,\"ticks\":\"\",\"zerolinecolor\":\"white\"}},\"shapedefaults\":{\"line\":{\"color\":\"#2a3f5f\"}},\"ternary\":{\"aaxis\":{\"gridcolor\":\"white\",\"linecolor\":\"white\",\"ticks\":\"\"},\"baxis\":{\"gridcolor\":\"white\",\"linecolor\":\"white\",\"ticks\":\"\"},\"bgcolor\":\"#E5ECF6\",\"caxis\":{\"gridcolor\":\"white\",\"linecolor\":\"white\",\"ticks\":\"\"}},\"title\":{\"x\":0.05},\"xaxis\":{\"automargin\":true,\"gridcolor\":\"white\",\"linecolor\":\"white\",\"ticks\":\"\",\"title\":{\"standoff\":15},\"zerolinecolor\":\"white\",\"zerolinewidth\":2},\"yaxis\":{\"automargin\":true,\"gridcolor\":\"white\",\"linecolor\":\"white\",\"ticks\":\"\",\"title\":{\"standoff\":15},\"zerolinecolor\":\"white\",\"zerolinewidth\":2}}}},                        {\"responsive\": true}                    ).then(function(){\n",
       "                            \n",
       "var gd = document.getElementById('3a242d8e-5efa-47d7-a513-fc7d15f90b87');\n",
       "var x = new MutationObserver(function (mutations, observer) {{\n",
       "        var display = window.getComputedStyle(gd).display;\n",
       "        if (!display || display === 'none') {{\n",
       "            console.log([gd, 'removed!']);\n",
       "            Plotly.purge(gd);\n",
       "            observer.disconnect();\n",
       "        }}\n",
       "}});\n",
       "\n",
       "// Listen for the removal of the full notebook cells\n",
       "var notebookContainer = gd.closest('#notebook-container');\n",
       "if (notebookContainer) {{\n",
       "    x.observe(notebookContainer, {childList: true});\n",
       "}}\n",
       "\n",
       "// Listen for the clearing of the current output cell\n",
       "var outputEl = gd.closest('.output');\n",
       "if (outputEl) {{\n",
       "    x.observe(outputEl, {childList: true});\n",
       "}}\n",
       "\n",
       "                        })                };                });            </script>        </div>"
      ]
     },
     "metadata": {},
     "output_type": "display_data"
    }
   ],
   "source": [
    "# For some additional insight, we can see the relative feature importances from the trial for each objective:\n",
    "fig = optuna.visualization.plot_param_importances(study, target=lambda t: t.values[1], target_name=\"Minimizing Obfuscation Score\")\n",
    "fig.show()"
   ]
  },
  {
   "cell_type": "markdown",
   "id": "9d9b6405-5a1d-4320-9fe1-f04b10f34ec5",
   "metadata": {},
   "source": [
    "This is something we'll explore in more detail in a future notebook."
   ]
  }
 ],
 "metadata": {
  "kernelspec": {
   "display_name": "Python 3 (ipykernel)",
   "language": "python",
   "name": "python3"
  },
  "language_info": {
   "codemirror_mode": {
    "name": "ipython",
    "version": 3
   },
   "file_extension": ".py",
   "mimetype": "text/x-python",
   "name": "python",
   "nbconvert_exporter": "python",
   "pygments_lexer": "ipython3",
   "version": "3.9.7"
  }
 },
 "nbformat": 4,
 "nbformat_minor": 5
}
